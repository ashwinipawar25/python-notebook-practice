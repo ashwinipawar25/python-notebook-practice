{
 "cells": [
  {
   "cell_type": "markdown",
   "id": "8b8760c3-a799-488c-8b7a-8bf73c5593c3",
   "metadata": {},
   "source": [
    "# Tuple in python"
   ]
  },
  {
   "cell_type": "markdown",
   "id": "c700e116-f813-46f9-9cce-c9585bc07262",
   "metadata": {},
   "source": [
    "# creating a tuple"
   ]
  },
  {
   "cell_type": "code",
   "execution_count": 2,
   "id": "ae4b98f3-23f3-48a3-ac95-8b9c0d964923",
   "metadata": {},
   "outputs": [
    {
     "name": "stdout",
     "output_type": "stream",
     "text": [
      "(1, 2, 3)\n",
      "<class 'tuple'>\n"
     ]
    }
   ],
   "source": [
    "my_tuple = (1,2,3)\n",
    "print(my_tuple)\n",
    "print(type(my_tuple))"
   ]
  },
  {
   "cell_type": "markdown",
   "id": "087c4771-74f0-42fe-adad-a5fbe30fc9cd",
   "metadata": {},
   "source": [
    "# mixed datatypes"
   ]
  },
  {
   "cell_type": "code",
   "execution_count": 3,
   "id": "01d9dcec-e005-4d45-97e1-ad3666dea322",
   "metadata": {},
   "outputs": [
    {
     "name": "stdout",
     "output_type": "stream",
     "text": [
      "(1, 'Hello', 3.4, True)\n"
     ]
    }
   ],
   "source": [
    "my_type = (1,\"Hello\",3.4,True)\n",
    "print(my_type)"
   ]
  },
  {
   "cell_type": "markdown",
   "id": "c35886ef-7a65-4f72-85ad-dc0ac9a3b7a8",
   "metadata": {},
   "source": [
    "# empty tuple"
   ]
  },
  {
   "cell_type": "code",
   "execution_count": 4,
   "id": "800bbfe4-2673-42d3-ac40-9335630a3697",
   "metadata": {},
   "outputs": [
    {
     "name": "stdout",
     "output_type": "stream",
     "text": [
      "()\n"
     ]
    }
   ],
   "source": [
    "my_tuple = ()\n",
    "print(my_tuple)"
   ]
  },
  {
   "cell_type": "markdown",
   "id": "7628cb2f-51f1-42ec-901f-523bbbdea5a1",
   "metadata": {},
   "source": [
    "# nested tuple"
   ]
  },
  {
   "cell_type": "code",
   "execution_count": 5,
   "id": "27d19c15-6114-4724-912a-ca5580aa67d9",
   "metadata": {},
   "outputs": [
    {
     "name": "stdout",
     "output_type": "stream",
     "text": [
      "(1, 2, ['Apple', 'banana'], (1, 2, 3), 'hello')\n"
     ]
    }
   ],
   "source": [
    "a = (1,2,[\"Apple\",\"banana\"],(1,2,3),\"hello\")\n",
    "print(a)"
   ]
  },
  {
   "cell_type": "markdown",
   "id": "a6bd992f-dd4b-451d-97d0-8113d35b4f6f",
   "metadata": {},
   "source": [
    "# creating a tuple if only one item\n"
   ]
  },
  {
   "cell_type": "code",
   "execution_count": 7,
   "id": "6e243ff9-8218-4f00-ab38-44500d1a7243",
   "metadata": {},
   "outputs": [
    {
     "name": "stdout",
     "output_type": "stream",
     "text": [
      "('hello',)\n",
      "<class 'tuple'>\n"
     ]
    }
   ],
   "source": [
    "var1 = (\"hello\",)\n",
    "print(var1)\n",
    "print(type(var1))"
   ]
  },
  {
   "cell_type": "markdown",
   "id": "a5783a42-af15-4fe1-9e3e-53f5bb34b9d2",
   "metadata": {},
   "source": [
    "# tuple constructor"
   ]
  },
  {
   "cell_type": "code",
   "execution_count": 10,
   "id": "332006f5-7e8b-4287-92c4-a3840027fcfe",
   "metadata": {},
   "outputs": [
    {
     "name": "stdout",
     "output_type": "stream",
     "text": [
      "('a', 'b', 'c')\n",
      "<class 'tuple'>\n"
     ]
    }
   ],
   "source": [
    "a = tuple((\"a\",\"b\",\"c\"))\n",
    "print(a)\n",
    "print(type(a))"
   ]
  },
  {
   "cell_type": "markdown",
   "id": "f6e2908f-a059-4451-8132-4563351b1e7a",
   "metadata": {},
   "source": [
    "# indexing"
   ]
  },
  {
   "cell_type": "code",
   "execution_count": 11,
   "id": "cc29c2d8-b74b-42e7-86bb-27dcbadc2fd9",
   "metadata": {},
   "outputs": [
    {
     "name": "stdout",
     "output_type": "stream",
     "text": [
      "49\n"
     ]
    }
   ],
   "source": [
    "b = (47,48,49,4,8)\n",
    "print(b[2])"
   ]
  },
  {
   "cell_type": "code",
   "execution_count": 12,
   "id": "4d21471f-98bb-4e4a-842f-3d76522057f7",
   "metadata": {},
   "outputs": [
    {
     "data": {
      "text/plain": [
       "8"
      ]
     },
     "execution_count": 12,
     "metadata": {},
     "output_type": "execute_result"
    }
   ],
   "source": [
    "b[4]"
   ]
  },
  {
   "cell_type": "code",
   "execution_count": 13,
   "id": "c7044b97-2f0f-4c55-b14b-b9fc6ebaaf63",
   "metadata": {},
   "outputs": [
    {
     "data": {
      "text/plain": [
       "8"
      ]
     },
     "execution_count": 13,
     "metadata": {},
     "output_type": "execute_result"
    }
   ],
   "source": [
    "b[-1]"
   ]
  },
  {
   "cell_type": "code",
   "execution_count": 17,
   "id": "b0ea5031-5bc9-41a9-b6bd-dd6f245d7ecb",
   "metadata": {},
   "outputs": [
    {
     "data": {
      "text/plain": [
       "4"
      ]
     },
     "execution_count": 17,
     "metadata": {},
     "output_type": "execute_result"
    }
   ],
   "source": [
    "b[3]"
   ]
  },
  {
   "cell_type": "markdown",
   "id": "ea1e4fff-5db5-4dbc-8dd2-a563984eda50",
   "metadata": {},
   "source": [
    "# slicing"
   ]
  },
  {
   "cell_type": "code",
   "execution_count": 18,
   "id": "0b0516cb-c4f5-4745-8ec6-ef0a7a28fe54",
   "metadata": {},
   "outputs": [
    {
     "name": "stdout",
     "output_type": "stream",
     "text": [
      "(1, 2, 3, 4, 5, 6, 'hello', 'family')\n"
     ]
    }
   ],
   "source": [
    "a = (1,2,3,4,5,6,\"hello\",\"family\")\n",
    "print(a)"
   ]
  },
  {
   "cell_type": "code",
   "execution_count": 19,
   "id": "0dadf457-e61c-4dbb-ae68-c580ea674544",
   "metadata": {},
   "outputs": [
    {
     "data": {
      "text/plain": [
       "(1, 3, 5)"
      ]
     },
     "execution_count": 19,
     "metadata": {},
     "output_type": "execute_result"
    }
   ],
   "source": [
    "a[0:5:2]"
   ]
  },
  {
   "cell_type": "code",
   "execution_count": 21,
   "id": "35989b1f-321d-4c35-8547-3cd79735f74f",
   "metadata": {},
   "outputs": [
    {
     "data": {
      "text/plain": [
       "(1, 2, 3, 4, 5, 6)"
      ]
     },
     "execution_count": 21,
     "metadata": {},
     "output_type": "execute_result"
    }
   ],
   "source": [
    "a[0:6]"
   ]
  },
  {
   "cell_type": "code",
   "execution_count": 22,
   "id": "61cafd88-fa63-4717-b3de-710a74bce209",
   "metadata": {},
   "outputs": [
    {
     "data": {
      "text/plain": [
       "(1, 3, 5, 'hello')"
      ]
     },
     "execution_count": 22,
     "metadata": {},
     "output_type": "execute_result"
    }
   ],
   "source": [
    "a[::2]"
   ]
  },
  {
   "cell_type": "code",
   "execution_count": 23,
   "id": "4df9d75a-b3f1-4606-b421-c391950b5319",
   "metadata": {},
   "outputs": [
    {
     "data": {
      "text/plain": [
       "('family', 'hello', 6, 5, 4, 3, 2, 1)"
      ]
     },
     "execution_count": 23,
     "metadata": {},
     "output_type": "execute_result"
    }
   ],
   "source": [
    "a[::-1]"
   ]
  },
  {
   "cell_type": "code",
   "execution_count": 24,
   "id": "f36fec8d-0b31-448f-af7e-541867e0a267",
   "metadata": {},
   "outputs": [
    {
     "data": {
      "text/plain": [
       "('family', 6)"
      ]
     },
     "execution_count": 24,
     "metadata": {},
     "output_type": "execute_result"
    }
   ],
   "source": [
    "a[-1:-5:-2]"
   ]
  },
  {
   "cell_type": "markdown",
   "id": "09384e03-3db3-4fbb-ac1b-6dfa869a3e75",
   "metadata": {},
   "source": [
    "# reverse"
   ]
  },
  {
   "cell_type": "code",
   "execution_count": 26,
   "id": "cf348247-1357-4013-876f-dcab95627ea9",
   "metadata": {},
   "outputs": [
    {
     "data": {
      "text/plain": [
       "('family', 'hello', 6, 5, 4, 3, 2, 1)"
      ]
     },
     "execution_count": 26,
     "metadata": {},
     "output_type": "execute_result"
    }
   ],
   "source": [
    "a = (1,2,3,4,5,6,\"hello\",\"family\")\n",
    "a[::-1]"
   ]
  },
  {
   "cell_type": "markdown",
   "id": "d22bd443-89c1-4e4f-8b6b-153eb379695a",
   "metadata": {},
   "source": [
    "# Add item in tuple"
   ]
  },
  {
   "cell_type": "code",
   "execution_count": 28,
   "id": "3d85e4c6-d77e-40e8-aa6f-4fc39e918275",
   "metadata": {},
   "outputs": [
    {
     "name": "stdout",
     "output_type": "stream",
     "text": [
      "(25, 26, 27, 28, 29, 30)\n"
     ]
    }
   ],
   "source": [
    "a = (25,26,27,28,29)\n",
    "y = list(a)\n",
    "y.append(30)\n",
    "a = tuple(y)\n",
    "print(a)"
   ]
  },
  {
   "cell_type": "markdown",
   "id": "9ac6a09a-95ef-4ff7-b815-03f2971f7ebf",
   "metadata": {},
   "source": [
    "# remove item in tuple"
   ]
  },
  {
   "cell_type": "code",
   "execution_count": 29,
   "id": "04aa7815-3fe7-4e4c-bcb7-6cb354c11241",
   "metadata": {},
   "outputs": [
    {
     "name": "stdout",
     "output_type": "stream",
     "text": [
      "(26, 27, 28, 29)\n"
     ]
    }
   ],
   "source": [
    "a = (25,26,27,28,29)\n",
    "c = list(a)\n",
    "c.remove(25)\n",
    "a = tuple(c)\n",
    "print(a)"
   ]
  },
  {
   "cell_type": "markdown",
   "id": "6355c0b4-c3b0-40e7-8e6a-3b80ed4c013d",
   "metadata": {},
   "source": [
    "# delete"
   ]
  },
  {
   "cell_type": "code",
   "execution_count": 30,
   "id": "676137c3-0426-412d-b767-4022352f4d0f",
   "metadata": {},
   "outputs": [],
   "source": [
    "a = (1,2,3,4,5,6,7,8,9)\n",
    "del a "
   ]
  },
  {
   "cell_type": "markdown",
   "id": "bb05b274-abd0-4324-a217-b3463c5652b4",
   "metadata": {},
   "source": [
    "# loop"
   ]
  },
  {
   "cell_type": "code",
   "execution_count": 32,
   "id": "9c2e7ceb-5074-4269-b431-4f59fac8d5ba",
   "metadata": {},
   "outputs": [
    {
     "name": "stdout",
     "output_type": "stream",
     "text": [
      "a\n",
      "b\n",
      "c\n"
     ]
    }
   ],
   "source": [
    "this_tuple = (\"a\",\"b\",\"c\")\n",
    "for x in this_tuple:\n",
    "    print(x)"
   ]
  },
  {
   "cell_type": "markdown",
   "id": "ab2e5e00-820c-4c58-8fad-e4bd05c1d2d5",
   "metadata": {},
   "source": [
    "# join two tuple"
   ]
  },
  {
   "cell_type": "code",
   "execution_count": 34,
   "id": "bf71d1f1-a78e-408b-aaff-01299928f958",
   "metadata": {},
   "outputs": [
    {
     "name": "stdout",
     "output_type": "stream",
     "text": [
      "('a', 'b', 'c', 1, 2, 3)\n"
     ]
    }
   ],
   "source": [
    "tuple1 = (\"a\",\"b\",\"c\")\n",
    "tuple2 = (1,2,3)\n",
    "tuple3 = tuple1+tuple2\n",
    "print(tuple3)"
   ]
  },
  {
   "cell_type": "markdown",
   "id": "d1cce737-8df5-44a6-a69c-5bf7f53efed7",
   "metadata": {},
   "source": [
    "# multiply"
   ]
  },
  {
   "cell_type": "code",
   "execution_count": 36,
   "id": "fff0bed0-f4f8-44e9-824b-a8f4af6f4b7c",
   "metadata": {},
   "outputs": [
    {
     "name": "stdout",
     "output_type": "stream",
     "text": [
      "('apple', 'data', 'python', 'apple', 'data', 'python', 'apple', 'data', 'python')\n"
     ]
    }
   ],
   "source": [
    "a = (\"apple\",\"data\",\"python\")\n",
    "b = a*3\n",
    "print(b)"
   ]
  },
  {
   "cell_type": "markdown",
   "id": "c6eb4df2-eebe-4325-bb62-1a64cde2cd25",
   "metadata": {},
   "source": [
    "# Write a program, to take5 input from the user and store it in a tuple"
   ]
  },
  {
   "cell_type": "code",
   "execution_count": null,
   "id": "0acd0420-0d5a-4e8f-9878-4f1b373d3948",
   "metadata": {},
   "outputs": [],
   "source": [
    "t = ()\n",
    "i = 0\n",
    "while(i<=5):\n",
    "    num = int(input(\"enter the values please:\"))\n",
    "    t = t+(num,)\n",
    "    i = i+1\n",
    "    pri\n",
    "    "
   ]
  }
 ],
 "metadata": {
  "kernelspec": {
   "display_name": "Python 3 (ipykernel)",
   "language": "python",
   "name": "python3"
  },
  "language_info": {
   "codemirror_mode": {
    "name": "ipython",
    "version": 3
   },
   "file_extension": ".py",
   "mimetype": "text/x-python",
   "name": "python",
   "nbconvert_exporter": "python",
   "pygments_lexer": "ipython3",
   "version": "3.13.5"
  }
 },
 "nbformat": 4,
 "nbformat_minor": 5
}
