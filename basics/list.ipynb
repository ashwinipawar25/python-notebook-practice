{
 "cells": [
  {
   "cell_type": "markdown",
   "id": "1943aaab-2616-4c49-bde3-1c24cc88acf3",
   "metadata": {},
   "source": [
    "# List in python\n"
   ]
  },
  {
   "cell_type": "raw",
   "id": "36e702e2-23c6-4610-a274-f9a23edbb3f9",
   "metadata": {},
   "source": [
    "List are used to store multiple item in single variable"
   ]
  },
  {
   "cell_type": "raw",
   "id": "cbc266cb-d694-4008-b58d-9c7f97a2c1f1",
   "metadata": {},
   "source": [
    "List are ordered,changeble and allow duplicate values."
   ]
  },
  {
   "cell_type": "markdown",
   "id": "56e311fa-c79f-453d-889d-c0cc61f8347d",
   "metadata": {},
   "source": [
    "# Create a list"
   ]
  },
  {
   "cell_type": "code",
   "execution_count": 6,
   "id": "46d58351-d019-4175-90cd-78da3557361f",
   "metadata": {},
   "outputs": [
    {
     "name": "stdout",
     "output_type": "stream",
     "text": [
      "[1, 2, 3, 4, 5, 6]\n",
      "<class 'list'>\n"
     ]
    }
   ],
   "source": [
    "a = [1,2,3,4,5,6]\n",
    "print(a)\n",
    "print(type(a))"
   ]
  },
  {
   "cell_type": "code",
   "execution_count": 5,
   "id": "c7405748-28af-4318-9168-f5a2dbdf3a71",
   "metadata": {},
   "outputs": [
    {
     "name": "stdout",
     "output_type": "stream",
     "text": [
      "['Apple', 'Banana', 'Cherry']\n",
      "<class 'list'>\n"
     ]
    }
   ],
   "source": [
    "b = [\"Apple\",\"Banana\",\"Cherry\"]\n",
    "print(b)\n",
    "print(type(b))"
   ]
  },
  {
   "cell_type": "markdown",
   "id": "0adc15d9-0136-4091-a6ff-e3ee6d8cb3a8",
   "metadata": {},
   "source": [
    "# Allows duplicates"
   ]
  },
  {
   "cell_type": "code",
   "execution_count": 7,
   "id": "fc9f23e8-be48-4723-9f3f-4edcdcc11b3a",
   "metadata": {},
   "outputs": [
    {
     "name": "stdout",
     "output_type": "stream",
     "text": [
      "['Apple', 'Banana', 'Cherry', 'Apple']\n"
     ]
    }
   ],
   "source": [
    "mylist = [\"Apple\",\"Banana\",\"Cherry\",\"Apple\"]\n",
    "print(mylist)"
   ]
  },
  {
   "cell_type": "markdown",
   "id": "a360a424-5ba0-4512-986b-d4dcd31f14e4",
   "metadata": {},
   "source": [
    "# data types"
   ]
  },
  {
   "cell_type": "code",
   "execution_count": 10,
   "id": "38db01bb-08ff-4cfa-9fbc-07f09555656f",
   "metadata": {},
   "outputs": [
    {
     "name": "stdout",
     "output_type": "stream",
     "text": [
      "['apple', 'banana', 'Cherry']\n",
      "[1, 2, 3, 4, 5]\n",
      "[7.9, 4.5, 6.7]\n",
      "[True, False, True]\n"
     ]
    }
   ],
   "source": [
    "list1 = [\"apple\",\"banana\",\"Cherry\"]\n",
    "list2 = [1,2,3,4,5]\n",
    "list3 = [7.9,4.5,6.7]\n",
    "list4 = [True,False,True]\n",
    "print(list1)\n",
    "print(list2)\n",
    "print(list3)\n",
    "print(list4)"
   ]
  },
  {
   "cell_type": "code",
   "execution_count": 11,
   "id": "f132a836-5e80-4aee-b2ec-ed05622e1da3",
   "metadata": {},
   "outputs": [
    {
     "name": "stdout",
     "output_type": "stream",
     "text": [
      "[12, 13, 14, 15, 5.9, 5.2, 'student', 'hello', True, False]\n",
      "<class 'list'>\n"
     ]
    }
   ],
   "source": [
    "a = [12,13,14,15,5.9,5.2,\"student\",\"hello\",True,False]\n",
    "print(a)\n",
    "print(type(a))"
   ]
  },
  {
   "cell_type": "markdown",
   "id": "1b4da36b-606e-456f-b46e-4507112565ba",
   "metadata": {},
   "source": [
    "# lenth of list"
   ]
  },
  {
   "cell_type": "code",
   "execution_count": 14,
   "id": "5a59dca3-7ad0-4807-88c1-f2b89d9d1641",
   "metadata": {},
   "outputs": [
    {
     "name": "stdout",
     "output_type": "stream",
     "text": [
      "[12, 13, 14, 15, 5.9, 5.2, 'student', 'hello', True, False]\n",
      "lenth of list: 10\n"
     ]
    }
   ],
   "source": [
    "a = [12,13,14,15,5.9,5.2,\"student\",\"hello\",True,False]\n",
    "print(a)\n",
    "print(\"lenth of list:\",len(a))"
   ]
  },
  {
   "cell_type": "markdown",
   "id": "a5007615-2cf0-40f6-9f4d-95009fd66346",
   "metadata": {},
   "source": [
    "# Access items"
   ]
  },
  {
   "cell_type": "code",
   "execution_count": 15,
   "id": "d99e3afe-7157-4b8a-b121-fd9afe995d08",
   "metadata": {},
   "outputs": [
    {
     "name": "stdout",
     "output_type": "stream",
     "text": [
      "15\n"
     ]
    }
   ],
   "source": [
    "list = [12,15,26,78,14,25,96,142,52,22,6,5]\n",
    "print(list[1])\n"
   ]
  },
  {
   "cell_type": "code",
   "execution_count": 19,
   "id": "586a2eb0-cdac-4015-b2fe-52d11b1a55c8",
   "metadata": {},
   "outputs": [
    {
     "name": "stdout",
     "output_type": "stream",
     "text": [
      "5\n"
     ]
    }
   ],
   "source": [
    "print(list[-1])"
   ]
  },
  {
   "cell_type": "raw",
   "id": "5e742043-dda6-4730-8836-cee95af3ae17",
   "metadata": {},
   "source": [
    "print(list[-8])"
   ]
  },
  {
   "cell_type": "markdown",
   "id": "09a8a8d0-3197-48a1-a6a9-da80258e8edf",
   "metadata": {},
   "source": [
    "# Slicing "
   ]
  },
  {
   "cell_type": "code",
   "execution_count": 20,
   "id": "fccee945-6438-4537-ba4e-87b5ca695dce",
   "metadata": {},
   "outputs": [
    {
     "name": "stdout",
     "output_type": "stream",
     "text": [
      "[12, 15, 26, 78, 14, 25]\n"
     ]
    }
   ],
   "source": [
    "list = [12,15,26,78,14,25,96,142,52,22,6,5]\n",
    "print(list[0:6])"
   ]
  },
  {
   "cell_type": "code",
   "execution_count": 26,
   "id": "b9c09049-93f8-487d-8f02-d3e515828866",
   "metadata": {},
   "outputs": [
    {
     "name": "stdout",
     "output_type": "stream",
     "text": [
      "[78, 25, 142]\n"
     ]
    }
   ],
   "source": [
    "print(list[3:9:2])"
   ]
  },
  {
   "cell_type": "markdown",
   "id": "c5af0af7-85e3-4329-a70b-3159574b893f",
   "metadata": {},
   "source": [
    "# change item"
   ]
  },
  {
   "cell_type": "code",
   "execution_count": 28,
   "id": "ac5aeda2-3119-45a2-af7e-cf729428193c",
   "metadata": {},
   "outputs": [
    {
     "name": "stdout",
     "output_type": "stream",
     "text": [
      "['Apple', 'strawberry', 'cherry']\n"
     ]
    }
   ],
   "source": [
    "thislist = [\"Apple\",\"banana\",\"cherry\"]\n",
    "thislist[1] = \"strawberry\"\n",
    "print(thislist)"
   ]
  },
  {
   "cell_type": "code",
   "execution_count": 30,
   "id": "15840c47-8367-404e-afc4-b967d49915b7",
   "metadata": {},
   "outputs": [
    {
     "name": "stdout",
     "output_type": "stream",
     "text": [
      "[12, 14, 'Student', 16, 18, 19, 20]\n"
     ]
    }
   ],
   "source": [
    "a = [12,14,15,16,18,19,20]\n",
    "a[2]=\"Student\"\n",
    "print(a)"
   ]
  },
  {
   "cell_type": "markdown",
   "id": "66471e87-d80c-464e-a060-4060c31bdea2",
   "metadata": {},
   "source": [
    "# change a range of item values"
   ]
  },
  {
   "cell_type": "code",
   "execution_count": 31,
   "id": "60d40edc-e1ce-43c9-901b-9f5ebc2a2797",
   "metadata": {},
   "outputs": [
    {
     "name": "stdout",
     "output_type": "stream",
     "text": [
      "[12, 14, 'Books', 'pen', 'pencil', 8, -9, 5, -3, 41, -9]\n"
     ]
    }
   ],
   "source": [
    "a = [12,14,15,16,8,-9,5,-3,41,-9]\n",
    "a[2:4] = [\"Books\",\"pen\",\"pencil\"]\n",
    "print(a)"
   ]
  },
  {
   "cell_type": "markdown",
   "id": "c60568bb-ccf0-4cbc-9233-e3b555403f5e",
   "metadata": {},
   "source": [
    "# add item in list"
   ]
  },
  {
   "cell_type": "code",
   "execution_count": 32,
   "id": "c0a81bf1-1e5c-4786-87cb-da162d67f2ed",
   "metadata": {},
   "outputs": [
    {
     "name": "stdout",
     "output_type": "stream",
     "text": [
      "[12, 14, 15, 78, 96, 25, -9]\n"
     ]
    }
   ],
   "source": [
    "a = [12,14,15,78,96,25]\n",
    "a.append(-9)\n",
    "print(a)"
   ]
  },
  {
   "cell_type": "markdown",
   "id": "c60ed272-39c0-4468-a0d0-b2c44dbc5cd8",
   "metadata": {},
   "source": [
    "# remove item in list"
   ]
  },
  {
   "cell_type": "code",
   "execution_count": 34,
   "id": "c2d70e61-58bc-4377-a9ca-177a111023e7",
   "metadata": {},
   "outputs": [
    {
     "name": "stdout",
     "output_type": "stream",
     "text": [
      "[12, 45, 56]\n"
     ]
    }
   ],
   "source": [
    "m = [78,12,45,56]\n",
    "m.remove(78)\n",
    "print(m)"
   ]
  },
  {
   "cell_type": "markdown",
   "id": "16e4e483-f892-4e0a-bb68-df6856807177",
   "metadata": {},
   "source": [
    "# reverse the list"
   ]
  },
  {
   "cell_type": "code",
   "execution_count": 37,
   "id": "154e6760-bd25-4f02-8ab0-2785164e4f0f",
   "metadata": {},
   "outputs": [
    {
     "name": "stdout",
     "output_type": "stream",
     "text": [
      "['data', 6, 5, 4, 3, 2, 1]\n"
     ]
    }
   ],
   "source": [
    "n = [1,2,3,4,5,6,\"data\"]\n",
    "n.reverse()\n",
    "print(n)"
   ]
  },
  {
   "cell_type": "code",
   "execution_count": 41,
   "id": "ee6ace1f-2d22-4c5d-9db8-1ef016e5c634",
   "metadata": {},
   "outputs": [
    {
     "name": "stdout",
     "output_type": "stream",
     "text": [
      "13\n",
      "the sum of a list is  383\n"
     ]
    }
   ],
   "source": [
    "l = [14,15,12,78,-9,23,-8,52,74,89,25,10,8]\n",
    "print(len(l))\n",
    "a = 0\n",
    "for i in range(13):\n",
    "    a = a+l[i]\n",
    "    i= i+1\n",
    "print(\"the sum of a list is \",a)"
   ]
  },
  {
   "cell_type": "markdown",
   "id": "ac878a3e-ab76-4329-95ef-ab1054300099",
   "metadata": {},
   "source": [
    "# multiply all the numbers of a list"
   ]
  },
  {
   "cell_type": "code",
   "execution_count": null,
   "id": "b48c1dcb-75ce-485f-a3d4-a75522925ad1",
   "metadata": {},
   "outputs": [],
   "source": [
    "a = [1,2,3,4,5,6,7,8,9,10]\n",
    "m = 0\n",
    "for i in range(10):\n",
    "    m = m * a[i]\n",
    "    i = i\n",
    "    "
   ]
  }
 ],
 "metadata": {
  "kernelspec": {
   "display_name": "Python 3 (ipykernel)",
   "language": "python",
   "name": "python3"
  },
  "language_info": {
   "codemirror_mode": {
    "name": "ipython",
    "version": 3
   },
   "file_extension": ".py",
   "mimetype": "text/x-python",
   "name": "python",
   "nbconvert_exporter": "python",
   "pygments_lexer": "ipython3",
   "version": "3.13.5"
  }
 },
 "nbformat": 4,
 "nbformat_minor": 5
}
