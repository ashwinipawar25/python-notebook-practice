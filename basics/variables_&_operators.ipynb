{
 "cells": [
  {
   "cell_type": "markdown",
   "id": "cc477615-c56f-4351-b1bb-f0ea5bee1540",
   "metadata": {},
   "source": [
    "# Variable & operators"
   ]
  },
  {
   "cell_type": "markdown",
   "id": "99ec9878-65ac-4703-9c16-14a1445e133f",
   "metadata": {},
   "source": [
    "Variable"
   ]
  },
  {
   "cell_type": "code",
   "execution_count": 1,
   "id": "dd43e470-df68-4b00-9e1f-53844ef4deb4",
   "metadata": {},
   "outputs": [
    {
     "name": "stdout",
     "output_type": "stream",
     "text": [
      "1\n"
     ]
    }
   ],
   "source": [
    "a = 1\n",
    "print(a)"
   ]
  },
  {
   "cell_type": "code",
   "execution_count": 3,
   "id": "38740f0c-6a8d-49e0-855f-7cde34b31ab8",
   "metadata": {},
   "outputs": [
    {
     "name": "stdout",
     "output_type": "stream",
     "text": [
      "2 (2, 3)\n"
     ]
    }
   ],
   "source": [
    "b = 2\n",
    "c = 2,3\n",
    "print(b,c)"
   ]
  },
  {
   "cell_type": "code",
   "execution_count": 5,
   "id": "1e46511b-7147-4d87-9a2c-d57cfa1d764c",
   "metadata": {},
   "outputs": [
    {
     "name": "stdout",
     "output_type": "stream",
     "text": [
      "1\n"
     ]
    }
   ],
   "source": [
    "x = 'apple'\n",
    "print(a)"
   ]
  },
  {
   "cell_type": "code",
   "execution_count": 7,
   "id": "8e782a28-3feb-4565-9605-49d26c7f0a30",
   "metadata": {},
   "outputs": [
    {
     "name": "stdout",
     "output_type": "stream",
     "text": [
      "students\n"
     ]
    }
   ],
   "source": [
    "datamites = 'students'\n",
    "print(datamites)"
   ]
  },
  {
   "cell_type": "code",
   "execution_count": 9,
   "id": "8f7275c8-328b-4848-abf1-09a3654c2459",
   "metadata": {},
   "outputs": [
    {
     "name": "stdout",
     "output_type": "stream",
     "text": [
      "25\n"
     ]
    }
   ],
   "source": [
    "student123 = 25\n",
    "print(student123);"
   ]
  },
  {
   "cell_type": "code",
   "execution_count": 11,
   "id": "d6a41cf4-37c9-4bcc-98b0-d54f9261bb1a",
   "metadata": {},
   "outputs": [
    {
     "name": "stdout",
     "output_type": "stream",
     "text": [
      "5\n"
     ]
    }
   ],
   "source": [
    "_a = 5\n",
    "print(_a)"
   ]
  },
  {
   "cell_type": "markdown",
   "id": "75532af8-718f-4454-ac9c-42222204ea0c",
   "metadata": {},
   "source": [
    "# Many values to multiple variables"
   ]
  },
  {
   "cell_type": "code",
   "execution_count": 14,
   "id": "e11e3e9f-5aed-4dcc-a1ce-e89f4db5f27c",
   "metadata": {},
   "outputs": [
    {
     "name": "stdout",
     "output_type": "stream",
     "text": [
      "mango banana cherry\n"
     ]
    }
   ],
   "source": [
    "\n",
    "x,y,z ='mango','banana','cherry'\n",
    "print(x,y,z)"
   ]
  },
  {
   "cell_type": "code",
   "execution_count": 16,
   "id": "0c789a00-a2dd-4a0d-a40e-7040cb4c2454",
   "metadata": {},
   "outputs": [
    {
     "name": "stdout",
     "output_type": "stream",
     "text": [
      "banana\n"
     ]
    }
   ],
   "source": [
    "print(y)"
   ]
  },
  {
   "cell_type": "code",
   "execution_count": 18,
   "id": "95a1d57f-81b9-4415-bb1c-10d440c8e378",
   "metadata": {},
   "outputs": [
    {
     "name": "stdout",
     "output_type": "stream",
     "text": [
      "mango mango\n"
     ]
    }
   ],
   "source": [
    "x = y = 'mango'\n",
    "print(x,y)"
   ]
  },
  {
   "cell_type": "markdown",
   "id": "a17780d9-d4c4-4bae-8655-af76fadd5e4e",
   "metadata": {},
   "source": [
    "# python output variables"
   ]
  },
  {
   "cell_type": "code",
   "execution_count": 19,
   "id": "fea05409-f22a-4e64-b09a-fc94086aa97c",
   "metadata": {},
   "outputs": [
    {
     "name": "stdout",
     "output_type": "stream",
     "text": [
      "python\n",
      "is\n",
      "amazing\n"
     ]
    }
   ],
   "source": [
    "x = 'python'\n",
    "y = 'is'\n",
    "z = 'amazing'\n",
    "\n",
    "print(x)\n",
    "print(y)\n",
    "print(z)"
   ]
  },
  {
   "cell_type": "code",
   "execution_count": 20,
   "id": "7c95738f-8df0-45f5-9f51-64ac824f4697",
   "metadata": {},
   "outputs": [
    {
     "name": "stdout",
     "output_type": "stream",
     "text": [
      "python is amazing\n"
     ]
    }
   ],
   "source": [
    "print(x,y,z)"
   ]
  },
  {
   "cell_type": "markdown",
   "id": "37dccc49-b6e8-481c-8d2d-45ac05149c41",
   "metadata": {},
   "source": [
    "# data types"
   ]
  },
  {
   "cell_type": "code",
   "execution_count": 22,
   "id": "17e11402-7f8f-4483-abde-19b71b4cf28e",
   "metadata": {},
   "outputs": [
    {
     "name": "stdout",
     "output_type": "stream",
     "text": [
      "2\n",
      "<class 'int'>\n"
     ]
    }
   ],
   "source": [
    "x = 2\n",
    "print(x)\n",
    "print(type(x))"
   ]
  },
  {
   "cell_type": "code",
   "execution_count": 25,
   "id": "803aa375-dc43-4885-bf56-834b2d203313",
   "metadata": {
    "jupyter": {
     "source_hidden": true
    }
   },
   "outputs": [
    {
     "name": "stdout",
     "output_type": "stream",
     "text": [
      "ashwini\n",
      "<class 'str'>\n"
     ]
    }
   ],
   "source": [
    "y = 'ashwini'\n",
    "print(y)\n",
    "print(type(y))"
   ]
  },
  {
   "cell_type": "code",
   "execution_count": 30,
   "id": "e387aa73-6c8c-4e87-8386-a6f13ad4be70",
   "metadata": {},
   "outputs": [
    {
     "name": "stdout",
     "output_type": "stream",
     "text": [
      "(1, 2, 3, 4, 5, 6, 7)\n",
      "<class 'tuple'>\n"
     ]
    }
   ],
   "source": [
    "z = (1,2,3,4,5,6,7)\n",
    "print(z)\n",
    "print(type(z))"
   ]
  },
  {
   "cell_type": "code",
   "execution_count": 33,
   "id": "3de86710-018e-438d-a07a-cd16772aae7a",
   "metadata": {},
   "outputs": [
    {
     "name": "stdout",
     "output_type": "stream",
     "text": [
      "{0, 1, 'Ashwini'}\n",
      "<class 'set'>\n"
     ]
    }
   ],
   "source": [
    "a = {1,\"Ashwini\",0}\n",
    "print(a)\n",
    "print(type(a))"
   ]
  },
  {
   "cell_type": "code",
   "execution_count": 37,
   "id": "13346642-3025-46e8-a4c8-236beadc822f",
   "metadata": {},
   "outputs": [
    {
     "name": "stdout",
     "output_type": "stream",
     "text": [
      "[1, 2, 3, 4, 5, 6]\n",
      "<class 'list'>\n"
     ]
    }
   ],
   "source": [
    "b = [1,2,3,4,5,6]\n",
    "print(b)\n",
    "print(type(b))"
   ]
  },
  {
   "cell_type": "code",
   "execution_count": 40,
   "id": "649eaa39-810e-443c-a956-be075a187f50",
   "metadata": {},
   "outputs": [
    {
     "name": "stdout",
     "output_type": "stream",
     "text": [
      "Variable     Type     Data/Info\n",
      "-------------------------------\n",
      "a            set      {0, 1, 'Ashwini'}\n",
      "b            list     n=6\n",
      "c            tuple    n=2\n",
      "datamites    str      students\n",
      "student123   int      25\n",
      "x            int      2\n",
      "y            str      ashwini\n",
      "z            tuple    n=7\n"
     ]
    }
   ],
   "source": [
    "%whos"
   ]
  },
  {
   "cell_type": "markdown",
   "id": "d321fd03-dd5d-460d-8899-53636a8a0554",
   "metadata": {},
   "source": [
    "# operators in python"
   ]
  },
  {
   "cell_type": "raw",
   "id": "03bb4f05-2cce-402c-9de0-b37e7a193462",
   "metadata": {},
   "source": [
    "Arithmetic operators"
   ]
  },
  {
   "cell_type": "code",
   "execution_count": 44,
   "id": "3f861ee5-2eef-4ec2-85a2-7b772830a1fd",
   "metadata": {},
   "outputs": [
    {
     "name": "stdout",
     "output_type": "stream",
     "text": [
      "8\n"
     ]
    }
   ],
   "source": [
    "a,b = 3,5\n",
    "print(a+b)"
   ]
  },
  {
   "cell_type": "code",
   "execution_count": 45,
   "id": "cab05d0a-ced7-470a-b3c2-735094f50436",
   "metadata": {},
   "outputs": [
    {
     "name": "stdout",
     "output_type": "stream",
     "text": [
      "-2\n"
     ]
    }
   ],
   "source": [
    "a,b = 5,7\n",
    "print(a-b)"
   ]
  },
  {
   "cell_type": "code",
   "execution_count": 48,
   "id": "456ad9f4-378f-4849-a55a-7e70cb697918",
   "metadata": {},
   "outputs": [
    {
     "name": "stdout",
     "output_type": "stream",
     "text": [
      "(40+16j)\n"
     ]
    }
   ],
   "source": [
    "a = 8\n",
    "c = 5+2j\n",
    "print(a*c)"
   ]
  },
  {
   "cell_type": "code",
   "execution_count": 50,
   "id": "b36bbd8a-e054-40b3-8f5d-9ff006244b82",
   "metadata": {},
   "outputs": [
    {
     "name": "stdout",
     "output_type": "stream",
     "text": [
      "hello Ashwini\n"
     ]
    }
   ],
   "source": [
    "a = 'hello'\n",
    "b = 'Ashwini'\n",
    "print(a +\" \" + b)"
   ]
  },
  {
   "cell_type": "code",
   "execution_count": 51,
   "id": "b9107073-3bd9-4cde-b8e7-21af92337baa",
   "metadata": {},
   "outputs": [
    {
     "name": "stdout",
     "output_type": "stream",
     "text": [
      "1.125\n"
     ]
    }
   ],
   "source": [
    "a = 9\n",
    "b = 8\n",
    "print(a/b)"
   ]
  },
  {
   "cell_type": "code",
   "execution_count": 54,
   "id": "293628fd-9fbd-4d5f-9ffe-d7dc2e2f8e51",
   "metadata": {},
   "outputs": [
    {
     "name": "stdout",
     "output_type": "stream",
     "text": [
      "429981696\n"
     ]
    }
   ],
   "source": [
    "#exponent\n",
    "a = 12\n",
    "print(a**8)"
   ]
  },
  {
   "cell_type": "markdown",
   "id": "e03f2689-2af8-4dac-b2ea-3b1d24ba3a3a",
   "metadata": {},
   "source": [
    "# Logical operator"
   ]
  },
  {
   "cell_type": "code",
   "execution_count": 55,
   "id": "4ae06d8e-4d5d-43ca-a3ca-d94341448b2c",
   "metadata": {},
   "outputs": [
    {
     "name": "stdout",
     "output_type": "stream",
     "text": [
      "False\n"
     ]
    }
   ],
   "source": [
    "a = True\n",
    "b = False\n",
    "print(a and b)"
   ]
  },
  {
   "cell_type": "code",
   "execution_count": 56,
   "id": "33dbb798-068f-4d33-9f4b-be51b99dcd21",
   "metadata": {},
   "outputs": [
    {
     "name": "stdout",
     "output_type": "stream",
     "text": [
      "True\n"
     ]
    }
   ],
   "source": [
    "print(a or b)"
   ]
  },
  {
   "cell_type": "code",
   "execution_count": 58,
   "id": "6fb7050c-f020-44a7-b477-400c4b8d1c90",
   "metadata": {},
   "outputs": [
    {
     "name": "stdout",
     "output_type": "stream",
     "text": [
      "False\n"
     ]
    }
   ],
   "source": [
    "print(not (a))"
   ]
  },
  {
   "cell_type": "code",
   "execution_count": null,
   "id": "a6fa0072-1a0c-4644-b7ca-0d27b0f88d2e",
   "metadata": {},
   "outputs": [],
   "source": []
  }
 ],
 "metadata": {
  "kernelspec": {
   "display_name": "Python 3 (ipykernel)",
   "language": "python",
   "name": "python3"
  },
  "language_info": {
   "codemirror_mode": {
    "name": "ipython",
    "version": 3
   },
   "file_extension": ".py",
   "mimetype": "text/x-python",
   "name": "python",
   "nbconvert_exporter": "python",
   "pygments_lexer": "ipython3",
   "version": "3.13.5"
  }
 },
 "nbformat": 4,
 "nbformat_minor": 5
}
