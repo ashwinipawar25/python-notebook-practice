{
 "cells": [
  {
   "cell_type": "markdown",
   "id": "d77ca8c3-53fc-450f-8fda-48456ede8258",
   "metadata": {},
   "source": [
    "# String in python"
   ]
  },
  {
   "cell_type": "markdown",
   "id": "1f4911a1-f8ce-4db6-9202-a2f24fa24505",
   "metadata": {},
   "source": [
    "# *️⃣ Creating string in python"
   ]
  },
  {
   "cell_type": "code",
   "execution_count": 2,
   "id": "a48e0ff5-26e1-485e-8ab9-b44976812dcc",
   "metadata": {},
   "outputs": [
    {
     "name": "stdout",
     "output_type": "stream",
     "text": [
      "Hello\n",
      "<class 'str'>\n"
     ]
    }
   ],
   "source": [
    "a = 'Hello'\n",
    "print(a)\n",
    "print(type(a))"
   ]
  },
  {
   "cell_type": "code",
   "execution_count": 3,
   "id": "32db717c-c03a-4ed6-a693-b29f63522b1c",
   "metadata": {},
   "outputs": [
    {
     "name": "stdout",
     "output_type": "stream",
     "text": [
      "We are learning python\n",
      "<class 'str'>\n"
     ]
    }
   ],
   "source": [
    "b = 'We are learning python'\n",
    "print(b)\n",
    "print(type(b))"
   ]
  },
  {
   "cell_type": "markdown",
   "id": "7ac124a2-199b-4abf-8a53-1c2879d70030",
   "metadata": {},
   "source": [
    "# Multiline string"
   ]
  },
  {
   "cell_type": "code",
   "execution_count": 7,
   "id": "154f1b85-9f1a-4ab3-88c5-404618c59abb",
   "metadata": {},
   "outputs": [
    {
     "name": "stdout",
     "output_type": "stream",
     "text": [
      "Python is a high-level, \n",
      "interpreted programming language known for its readability and versatility, \n",
      "making it a popular choice across various domains. \n",
      "Its extensive standard library and vast ecosystem of third-party packages support applications in web development (e.g., Django, Flask), \n",
      "data science and machine learning (e.g., Pandas, NumPy, scikit-learn), \n",
      "automation, and scientific computing.\n",
      "Python's object-oriented features, dynamic typing,\n",
      "and clear syntax contribute to its ease of learning and rapid development capabilities,\n",
      "attracting a large and active community of developers.\n",
      "<class 'str'>\n"
     ]
    }
   ],
   "source": [
    "c ='''Python is a high-level, \n",
    "interpreted programming language known for its readability and versatility, \n",
    "making it a popular choice across various domains. \n",
    "Its extensive standard library and vast ecosystem of third-party packages support applications in web development (e.g., Django, Flask), \n",
    "data science and machine learning (e.g., Pandas, NumPy, scikit-learn), \n",
    "automation, and scientific computing.\n",
    "Python's object-oriented features, dynamic typing,\n",
    "and clear syntax contribute to its ease of learning and rapid development capabilities,\n",
    "attracting a large and active community of developers.'''\n",
    "print(c)\n",
    "print(type(c))"
   ]
  },
  {
   "cell_type": "code",
   "execution_count": 22,
   "id": "4059b569-618c-41ce-aa38-4fef026bfc15",
   "metadata": {},
   "outputs": [
    {
     "name": "stdout",
     "output_type": "stream",
     "text": [
      "595\n"
     ]
    }
   ],
   "source": [
    "print(len(c))"
   ]
  },
  {
   "cell_type": "markdown",
   "id": "1bb35c1a-bde1-42d8-9cbf-f67af1159e09",
   "metadata": {},
   "source": [
    "# Indexing of String"
   ]
  },
  {
   "cell_type": "code",
   "execution_count": 10,
   "id": "260a9ea6-be38-49bc-843c-93704c260fee",
   "metadata": {},
   "outputs": [
    {
     "name": "stdout",
     "output_type": "stream",
     "text": [
      "n\n"
     ]
    }
   ],
   "source": [
    "a = \"Hello Students\"\n",
    "print(a[11])"
   ]
  },
  {
   "cell_type": "code",
   "execution_count": 11,
   "id": "d0368146-3b88-4063-9705-9c8ddfdb6281",
   "metadata": {},
   "outputs": [
    {
     "data": {
      "text/plain": [
       "'n'"
      ]
     },
     "execution_count": 11,
     "metadata": {},
     "output_type": "execute_result"
    }
   ],
   "source": [
    "a[11]"
   ]
  },
  {
   "cell_type": "code",
   "execution_count": 12,
   "id": "a2cf3553-91a9-45c1-bab4-1b88c97577e7",
   "metadata": {},
   "outputs": [
    {
     "name": "stdout",
     "output_type": "stream",
     "text": [
      "d\n"
     ]
    }
   ],
   "source": [
    "print(a[-5])"
   ]
  },
  {
   "cell_type": "code",
   "execution_count": 13,
   "id": "13bbb0a3-57cf-4bec-b29f-7b54dad34cef",
   "metadata": {},
   "outputs": [
    {
     "name": "stdout",
     "output_type": "stream",
     "text": [
      "?\n"
     ]
    }
   ],
   "source": [
    "a = \"how's your studies going on ?\"\n",
    "print(a[-1])"
   ]
  },
  {
   "cell_type": "markdown",
   "id": "5e6914f5-c8b1-402a-9a31-d2dbe7d6bf3a",
   "metadata": {},
   "source": [
    "# Slicing of String"
   ]
  },
  {
   "cell_type": "raw",
   "id": "548ae7b1-99d8-411a-b2f9-b9d9fc2ca82d",
   "metadata": {},
   "source": [
    "[start:end:steps]"
   ]
  },
  {
   "cell_type": "code",
   "execution_count": 15,
   "id": "21c04a5a-1388-43d6-838c-d7e91ac61328",
   "metadata": {},
   "outputs": [
    {
     "name": "stdout",
     "output_type": "stream",
     "text": [
      "Student how\n"
     ]
    }
   ],
   "source": [
    "b = \"Hello Student how are you\"\n",
    "print(b[6:17])"
   ]
  },
  {
   "cell_type": "code",
   "execution_count": 16,
   "id": "57dc7d60-1667-4a69-ad7e-405a3c1386ae",
   "metadata": {},
   "outputs": [
    {
     "name": "stdout",
     "output_type": "stream",
     "text": [
      "Hello\n"
     ]
    }
   ],
   "source": [
    "print(b[0:5])"
   ]
  },
  {
   "cell_type": "code",
   "execution_count": 18,
   "id": "8965d7d3-d84d-4c85-963b-6e92b83d5564",
   "metadata": {},
   "outputs": [
    {
     "name": "stdout",
     "output_type": "stream",
     "text": [
      "Hello Student how are\n"
     ]
    }
   ],
   "source": [
    "print(b[0:21])"
   ]
  },
  {
   "cell_type": "code",
   "execution_count": 20,
   "id": "3ad94fbc-76ab-45da-995f-c18e25b92d1f",
   "metadata": {},
   "outputs": [
    {
     "name": "stdout",
     "output_type": "stream",
     "text": [
      "HloSuethwa\n"
     ]
    }
   ],
   "source": [
    "print(b[0:20:2])"
   ]
  },
  {
   "cell_type": "code",
   "execution_count": 21,
   "id": "b356eb0a-3ccc-4f51-bdf0-8aaff19c0311",
   "metadata": {},
   "outputs": [
    {
     "name": "stdout",
     "output_type": "stream",
     "text": [
      "uoy era woh tnedutS olleH\n"
     ]
    }
   ],
   "source": [
    "print(b[::-1])"
   ]
  },
  {
   "cell_type": "raw",
   "id": "dfc67452-9651-4085-8d95-bd505f97b487",
   "metadata": {},
   "source": [
    "finding the lenth of string"
   ]
  },
  {
   "cell_type": "code",
   "execution_count": 25,
   "id": "e50893e6-0e7f-4abd-a5d8-4183a79500cc",
   "metadata": {},
   "outputs": [
    {
     "name": "stdout",
     "output_type": "stream",
     "text": [
      "201\n"
     ]
    }
   ],
   "source": [
    "d ='''Hi my self ashwini pawar currently i have learning the data analytics skill and i join the crash course of the data analytics \n",
    "and really eager to learn the thing & anthiousicous to work as data analys'''\n",
    "print(len(d))"
   ]
  },
  {
   "cell_type": "markdown",
   "id": "2a217a80-ec53-419c-8acd-4465fa2cf5e3",
   "metadata": {},
   "source": [
    "# upper method"
   ]
  },
  {
   "cell_type": "code",
   "execution_count": 26,
   "id": "533dbfb3-0af2-4aaf-a2ae-68b46ae3b88b",
   "metadata": {},
   "outputs": [
    {
     "name": "stdout",
     "output_type": "stream",
     "text": [
      "HELLO HOW ARE YOU?\n"
     ]
    }
   ],
   "source": [
    "# upper() function\n",
    "a = 'hello how are you?'\n",
    "print(a.upper())"
   ]
  },
  {
   "cell_type": "markdown",
   "id": "05126885-5159-4841-acab-8a4ed29e5693",
   "metadata": {},
   "source": [
    "# lower method"
   ]
  },
  {
   "cell_type": "code",
   "execution_count": 27,
   "id": "53878309-84f8-4708-a776-9b0f9b2abf46",
   "metadata": {},
   "outputs": [
    {
     "name": "stdout",
     "output_type": "stream",
     "text": [
      "hello student\n"
     ]
    }
   ],
   "source": [
    "# lower() function\n",
    "a = \"HELLO STUDENT\"\n",
    "print(a.lower())"
   ]
  },
  {
   "cell_type": "markdown",
   "id": "1ab213ac-2c10-4821-a880-916c9098e472",
   "metadata": {},
   "source": [
    "# Replace Function"
   ]
  },
  {
   "cell_type": "code",
   "execution_count": 34,
   "id": "542c4130-a058-4297-8988-1c8718bc34dc",
   "metadata": {},
   "outputs": [
    {
     "name": "stdout",
     "output_type": "stream",
     "text": [
      "hello world\n",
      "bye world\n"
     ]
    }
   ],
   "source": [
    "# replace function\n",
    "a = \"hello world\"\n",
    "print(a)\n",
    "print(a.replace('hello','bye'))"
   ]
  },
  {
   "cell_type": "code",
   "execution_count": 33,
   "id": "0aeb1d30-ff7f-4d8f-a6d4-9c482d48ed50",
   "metadata": {},
   "outputs": [
    {
     "name": "stdout",
     "output_type": "stream",
     "text": [
      "hello\n",
      "Hello\n"
     ]
    }
   ],
   "source": [
    "a = 'hello'\n",
    "print(a)\n",
    "print(a.replace('h','H'))"
   ]
  },
  {
   "cell_type": "code",
   "execution_count": 32,
   "id": "b5999ea1-39bc-49cc-9674-09dc78a59df7",
   "metadata": {},
   "outputs": [
    {
     "name": "stdout",
     "output_type": "stream",
     "text": [
      "hello world\n",
      "hello students\n"
     ]
    }
   ],
   "source": [
    "b = 'hello world'\n",
    "print(b)\n",
    "print(b.replace('world','students'))"
   ]
  },
  {
   "cell_type": "markdown",
   "id": "5a1f38dc-9d9e-479b-8bd4-94cc65b62906",
   "metadata": {},
   "source": [
    "# Find Method"
   ]
  },
  {
   "cell_type": "code",
   "execution_count": 40,
   "id": "f0105869-b197-48bf-8f8e-4682c0ec75d9",
   "metadata": {},
   "outputs": [
    {
     "name": "stdout",
     "output_type": "stream",
     "text": [
      "g\n",
      "10\n"
     ]
    }
   ],
   "source": [
    "#find() function\n",
    "# it finds the position \n",
    "a = \"Python is great\"\n",
    "print(a[10])\n",
    "print(a.find('g'))"
   ]
  },
  {
   "cell_type": "code",
   "execution_count": 39,
   "id": "08baacb4-fa12-49d3-9aff-6dfe585b8b2f",
   "metadata": {},
   "outputs": [
    {
     "name": "stdout",
     "output_type": "stream",
     "text": [
      "a\n",
      "13\n"
     ]
    }
   ],
   "source": [
    "a = \"python is great\"\n",
    "print(a[13])\n",
    "print(a.find('a'))"
   ]
  },
  {
   "cell_type": "code",
   "execution_count": null,
   "id": "5bbd2c59-a83d-4803-8f48-a56ef94de302",
   "metadata": {},
   "outputs": [],
   "source": []
  }
 ],
 "metadata": {
  "kernelspec": {
   "display_name": "Python 3 (ipykernel)",
   "language": "python",
   "name": "python3"
  },
  "language_info": {
   "codemirror_mode": {
    "name": "ipython",
    "version": 3
   },
   "file_extension": ".py",
   "mimetype": "text/x-python",
   "name": "python",
   "nbconvert_exporter": "python",
   "pygments_lexer": "ipython3",
   "version": "3.13.5"
  }
 },
 "nbformat": 4,
 "nbformat_minor": 5
}
