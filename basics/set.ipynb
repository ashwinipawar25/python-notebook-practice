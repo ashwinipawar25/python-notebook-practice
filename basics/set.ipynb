{
 "cells": [
  {
   "cell_type": "markdown",
   "id": "88c5e98b-8e59-44ea-b2a4-600aed2d2bee",
   "metadata": {},
   "source": [
    "# sets in python"
   ]
  },
  {
   "cell_type": "raw",
   "id": "5bbab56f-965a-47ea-82f0-7aff9bb8ba9d",
   "metadata": {},
   "source": [
    "set are used to store multiple items in a single variable "
   ]
  },
  {
   "cell_type": "raw",
   "id": "81c1c96e-96a9-4169-8b0e-29d3f25fdbd0",
   "metadata": {},
   "source": [
    "set is one of 4 nuilt_in data type in python used to store collection of data , the other 3 are list,tuple,and dictionary,all with different qualities and usage"
   ]
  },
  {
   "cell_type": "raw",
   "id": "360bc9d1-50dd-48a6-8be4-69ea164831d7",
   "metadata": {},
   "source": [
    "# A set is collection which is unordered,unchangeable,and unindexed"
   ]
  },
  {
   "cell_type": "markdown",
   "id": "c7455cab-2424-4abd-aaa4-8aaab9e20724",
   "metadata": {},
   "source": [
    "# creating a set"
   ]
  },
  {
   "cell_type": "code",
   "execution_count": 1,
   "id": "9ce99293-3189-4f37-9ad1-73f4eb62df64",
   "metadata": {},
   "outputs": [
    {
     "name": "stdout",
     "output_type": "stream",
     "text": [
      "{'animals', 'ball', 'cat'}\n"
     ]
    }
   ],
   "source": [
    "a = {\"animals\",\"ball\",\"cat\"}\n",
    "print(a)"
   ]
  },
  {
   "cell_type": "markdown",
   "id": "cfb31206-a58b-4d09-b950-37e5594f2ab6",
   "metadata": {},
   "source": [
    "# set item are unordered"
   ]
  },
  {
   "cell_type": "code",
   "execution_count": 3,
   "id": "fb8b6190-ebc6-4235-81d0-dc462b5998f2",
   "metadata": {},
   "outputs": [
    {
     "ename": "TypeError",
     "evalue": "'set' object is not subscriptable",
     "output_type": "error",
     "traceback": [
      "\u001b[1;31m---------------------------------------------------------------------------\u001b[0m",
      "\u001b[1;31mTypeError\u001b[0m                                 Traceback (most recent call last)",
      "Cell \u001b[1;32mIn[3], line 2\u001b[0m\n\u001b[0;32m      1\u001b[0m a \u001b[38;5;241m=\u001b[39m {\u001b[38;5;124m\"\u001b[39m\u001b[38;5;124manimals\u001b[39m\u001b[38;5;124m\"\u001b[39m,\u001b[38;5;124m\"\u001b[39m\u001b[38;5;124mball\u001b[39m\u001b[38;5;124m\"\u001b[39m,\u001b[38;5;124m\"\u001b[39m\u001b[38;5;124mcat\u001b[39m\u001b[38;5;124m\"\u001b[39m}\n\u001b[1;32m----> 2\u001b[0m \u001b[38;5;28mprint\u001b[39m(a[\u001b[38;5;241m0\u001b[39m])\n",
      "\u001b[1;31mTypeError\u001b[0m: 'set' object is not subscriptable"
     ]
    }
   ],
   "source": [
    "a = {\"animals\",\"ball\",\"cat\"}\n",
    "print(a[0])"
   ]
  },
  {
   "cell_type": "markdown",
   "id": "4d755f41-d00c-41d0-9229-0fe13f95ad49",
   "metadata": {},
   "source": [
    "# duplicate are not allowed"
   ]
  },
  {
   "cell_type": "code",
   "execution_count": 5,
   "id": "9599b9ab-80af-44e2-b32d-47debc78ab00",
   "metadata": {},
   "outputs": [
    {
     "name": "stdout",
     "output_type": "stream",
     "text": [
      "{'Animal', 'table', 'ball', 'cat'}\n"
     ]
    }
   ],
   "source": [
    "a = {\"Animal\",\"ball\",\"cat\",\"Animal\",\"ball\",\"table\"}\n",
    "print(a)"
   ]
  },
  {
   "cell_type": "markdown",
   "id": "4397d0e4-8b54-4790-8e7e-4c15547551c5",
   "metadata": {},
   "source": [
    "# True and 1 consider the same value"
   ]
  },
  {
   "cell_type": "code",
   "execution_count": 6,
   "id": "875637e5-ab82-47be-95fc-86d41dda77a3",
   "metadata": {},
   "outputs": [
    {
     "name": "stdout",
     "output_type": "stream",
     "text": [
      "{'animal', True, 'ball', 'cat'}\n"
     ]
    }
   ],
   "source": [
    "a = {\"animal\",\"ball\",\"cat\",True,1}\n",
    "print(a)"
   ]
  },
  {
   "cell_type": "markdown",
   "id": "9a8adc78-3d23-4ad5-bb12-64a504dc1285",
   "metadata": {},
   "source": [
    "# set length"
   ]
  },
  {
   "cell_type": "code",
   "execution_count": 7,
   "id": "19c1c783-e2eb-4e7a-9610-1b4f5e03bc5b",
   "metadata": {},
   "outputs": [
    {
     "name": "stdout",
     "output_type": "stream",
     "text": [
      "4\n"
     ]
    }
   ],
   "source": [
    "a = {\"Animal\",\"ball\",\"cat\",\"Animal\",\"ball\",\"table\"}\n",
    "print(len(a))"
   ]
  },
  {
   "cell_type": "markdown",
   "id": "90e0c646-2829-49df-982a-6abeea4e13a1",
   "metadata": {},
   "source": [
    "# set items - data types"
   ]
  },
  {
   "cell_type": "code",
   "execution_count": 8,
   "id": "c8097b85-62f8-4b41-9d01-2da1a466038e",
   "metadata": {},
   "outputs": [
    {
     "name": "stdout",
     "output_type": "stream",
     "text": [
      "{1, 2, 3, 4, 5} {1.2, 2.3, 4.5, 6.7} {'a', 'c', 'b', 'd'} {False, True}\n"
     ]
    }
   ],
   "source": [
    "x = {1,2,3,4,5}\n",
    "x1 = {1.2,2.3,4.5,6.7}\n",
    "x2 = {\"a\",\"b\",\"c\",\"d\"}\n",
    "x3 = {True,False}\n",
    "print(x,x1,x2,x3)"
   ]
  },
  {
   "cell_type": "code",
   "execution_count": 12,
   "id": "11e1c36b-1304-4fe3-93e2-f788c07a79b1",
   "metadata": {},
   "outputs": [
    {
     "name": "stdout",
     "output_type": "stream",
     "text": [
      "{1, 2.4, 'Apple', (6+3j)}\n"
     ]
    }
   ],
   "source": [
    "a = {1,2.4,\"Apple\",True,(6+3j)}\n",
    "print(a)"
   ]
  },
  {
   "cell_type": "markdown",
   "id": "33fcbf94-1330-4b73-8921-6e1d27761279",
   "metadata": {},
   "source": [
    "# creating empty set"
   ]
  },
  {
   "cell_type": "code",
   "execution_count": 15,
   "id": "07c36f8c-8041-4cfa-bbdf-075b395cca48",
   "metadata": {},
   "outputs": [
    {
     "name": "stdout",
     "output_type": "stream",
     "text": [
      "<class 'set'>\n"
     ]
    }
   ],
   "source": [
    "a = set()\n",
    "print(type(a))"
   ]
  },
  {
   "cell_type": "markdown",
   "id": "5b0fbd1c-7ed9-4bb9-9efb-31a7c914fefc",
   "metadata": {},
   "source": [
    "# Access items"
   ]
  },
  {
   "cell_type": "code",
   "execution_count": 18,
   "id": "6f45a9de-28cc-40ce-addd-ed0d1ed690d7",
   "metadata": {},
   "outputs": [
    {
     "name": "stdout",
     "output_type": "stream",
     "text": [
      "a\n",
      "b\n",
      "c\n"
     ]
    }
   ],
   "source": [
    "a = {\"a\",\"b\",\"c\"}\n",
    "for x in a:\n",
    "    print(x)"
   ]
  },
  {
   "cell_type": "markdown",
   "id": "4e19082b-fb85-4e9a-9ba1-eaff92d5e8d3",
   "metadata": {},
   "source": [
    "# add item"
   ]
  },
  {
   "cell_type": "code",
   "execution_count": 19,
   "id": "fce16b7c-2d07-4962-a8aa-775388cb3c51",
   "metadata": {},
   "outputs": [
    {
     "name": "stdout",
     "output_type": "stream",
     "text": [
      "{'c', 100, 'a', 'b', 'd'}\n"
     ]
    }
   ],
   "source": [
    "a = {\"a\",\"b\",\"c\",\"d\"}\n",
    "a.add(100)\n",
    "print(a)\n"
   ]
  },
  {
   "cell_type": "code",
   "execution_count": 20,
   "id": "89740cbb-0cad-4030-8f6f-47ab94fcfe2d",
   "metadata": {},
   "outputs": [
    {
     "name": "stdout",
     "output_type": "stream",
     "text": [
      "{'python', 40, 10, 50, 'data', 20, 'code', 30}\n"
     ]
    }
   ],
   "source": [
    "x = {\"data\",'python',\"code\"}\n",
    "y = {10,20,30,40,50}\n",
    "x.update(y)\n",
    "print(x)"
   ]
  },
  {
   "cell_type": "markdown",
   "id": "5152a605-ef3b-4d95-973e-94dfad6422fb",
   "metadata": {},
   "source": [
    "# remove item in set"
   ]
  },
  {
   "cell_type": "code",
   "execution_count": null,
   "id": "ba12849b-e771-4395-b0d9-cf3fb1808916",
   "metadata": {},
   "outputs": [],
   "source": [
    "y = {10,20,30,40,50}\n",
    "y."
   ]
  }
 ],
 "metadata": {
  "kernelspec": {
   "display_name": "Python 3 (ipykernel)",
   "language": "python",
   "name": "python3"
  },
  "language_info": {
   "codemirror_mode": {
    "name": "ipython",
    "version": 3
   },
   "file_extension": ".py",
   "mimetype": "text/x-python",
   "name": "python",
   "nbconvert_exporter": "python",
   "pygments_lexer": "ipython3",
   "version": "3.13.5"
  }
 },
 "nbformat": 4,
 "nbformat_minor": 5
}
