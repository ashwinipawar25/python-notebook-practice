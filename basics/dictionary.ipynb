{
 "cells": [
  {
   "cell_type": "markdown",
   "id": "223c18e0-b2ef-4153-bdf7-9616083f834f",
   "metadata": {},
   "source": [
    "# Dictionary in python"
   ]
  },
  {
   "cell_type": "raw",
   "id": "f28f8d33-ca95-4ad0-a43d-517d7ec9af4f",
   "metadata": {},
   "source": [
    "Dictionary are used to store data values in key:value pairs"
   ]
  },
  {
   "cell_type": "raw",
   "id": "5bf8b1b6-5a05-4d4b-8cb9-f04beb4ec62f",
   "metadata": {},
   "source": [
    "Dictionary item are ordered , changable, and does not allow duplicates"
   ]
  },
  {
   "cell_type": "markdown",
   "id": "b9126015-c172-4a1a-b494-c45e7d09853b",
   "metadata": {},
   "source": [
    "# Creating Dictionary"
   ]
  },
  {
   "cell_type": "code",
   "execution_count": 1,
   "id": "b286ad1e-16ee-4a8c-b942-1140aecadaf7",
   "metadata": {},
   "outputs": [
    {
     "name": "stdout",
     "output_type": "stream",
     "text": [
      "{'ID': '123ab', 'color': 'Black', 'year': 1964}\n",
      "<class 'dict'>\n"
     ]
    }
   ],
   "source": [
    "a = {\"ID\":\"123ab\",\n",
    "    \"color\":\"Black\",\n",
    "    \"year\":1964}\n",
    "print(a)\n",
    "print(type(a))"
   ]
  },
  {
   "cell_type": "code",
   "execution_count": 2,
   "id": "5bca1382-0cd5-4584-ba00-317374eca17e",
   "metadata": {},
   "outputs": [
    {
     "name": "stdout",
     "output_type": "stream",
     "text": [
      "Black\n"
     ]
    }
   ],
   "source": [
    "a = {\"ID\":\"123ab\",\n",
    "    \"color\":\"Black\",\n",
    "    \"year\":1964}\n",
    "print(a[\"color\"])"
   ]
  },
  {
   "cell_type": "markdown",
   "id": "487230d6-8fb1-4633-ae74-a319b8d99fa3",
   "metadata": {},
   "source": [
    "# Dictionary Length"
   ]
  },
  {
   "cell_type": "code",
   "execution_count": 3,
   "id": "02bed673-e6de-497d-ad77-ad9f881e7c98",
   "metadata": {},
   "outputs": [
    {
     "name": "stdout",
     "output_type": "stream",
     "text": [
      "3\n"
     ]
    }
   ],
   "source": [
    "a = {\"ID\":\"123ab\",\n",
    "    \"color\":\"Black\",\n",
    "    \"year\":1964}\n",
    "print(len(a))"
   ]
  },
  {
   "cell_type": "markdown",
   "id": "b74f3136-994b-4413-9c80-f802d2134257",
   "metadata": {},
   "source": [
    "# Constructor"
   ]
  },
  {
   "cell_type": "code",
   "execution_count": 6,
   "id": "f8e8f536-f623-4bb1-9c7c-52a94051fa90",
   "metadata": {},
   "outputs": [
    {
     "name": "stdout",
     "output_type": "stream",
     "text": [
      "{'name': 'Ashwini', 'location': 'Pune', 'age': 21}\n",
      "<class 'dict'>\n"
     ]
    }
   ],
   "source": [
    "a = dict(name=\"Ashwini\",\n",
    "         location=\"Pune\",\n",
    "         age=21)\n",
    "print(a)\n",
    "print(type(a))"
   ]
  },
  {
   "cell_type": "markdown",
   "id": "415ccebc-c501-4700-8a29-21a89a9e7bad",
   "metadata": {},
   "source": [
    "# Access"
   ]
  },
  {
   "cell_type": "code",
   "execution_count": 8,
   "id": "97a99781-e7b5-40e0-be30-759bc74dd032",
   "metadata": {},
   "outputs": [
    {
     "name": "stdout",
     "output_type": "stream",
     "text": [
      "Ashwini\n"
     ]
    }
   ],
   "source": [
    "a = dict(name=\"Ashwini\",\n",
    "         location=\"Pune\",\n",
    "         age=21)\n",
    "print(a[\"name\"])"
   ]
  },
  {
   "cell_type": "code",
   "execution_count": 10,
   "id": "85f667cc-0569-4bcb-9cb0-7d272773f7f7",
   "metadata": {},
   "outputs": [
    {
     "name": "stdout",
     "output_type": "stream",
     "text": [
      "Ashwini\n"
     ]
    }
   ],
   "source": [
    "# using the get method\n",
    "a = dict(name = 'Ashwini',\n",
    "        loc= 'Pune',\n",
    "        age = 21)\n",
    "print(a.get(\"name\"))"
   ]
  },
  {
   "cell_type": "markdown",
   "id": "bee0c309-9586-4c35-9915-f47dc1ff24a1",
   "metadata": {},
   "source": [
    "# keys"
   ]
  },
  {
   "cell_type": "code",
   "execution_count": 15,
   "id": "4084dd5b-22db-4f89-99d1-643646db1363",
   "metadata": {},
   "outputs": [
    {
     "data": {
      "text/plain": [
       "dict_keys(['name', 'loc', 'age'])"
      ]
     },
     "execution_count": 15,
     "metadata": {},
     "output_type": "execute_result"
    }
   ],
   "source": [
    "a = dict(name = 'Ashwini',\n",
    "        loc= 'Pune',\n",
    "        age = 21)\n",
    "x = a.keys()\n",
    "x"
   ]
  },
  {
   "cell_type": "markdown",
   "id": "85f3077e-40a1-47bc-a05a-20bddb57a09f",
   "metadata": {},
   "source": [
    "# modify"
   ]
  },
  {
   "cell_type": "code",
   "execution_count": 17,
   "id": "44a56f7b-5c98-48b7-90c3-4b05bf647210",
   "metadata": {},
   "outputs": [
    {
     "name": "stdout",
     "output_type": "stream",
     "text": [
      "{'name': 'Ashwini', 'loc': 'Pune', 'age': 28}\n"
     ]
    }
   ],
   "source": [
    "a = {\"name\":'Ashwini',\n",
    "        \"loc\":'Pune',\n",
    "        \"age\" :21}\n",
    "a[\"age\"] = 28\n",
    "print(a)\n"
   ]
  },
  {
   "cell_type": "markdown",
   "id": "878faeb2-caa1-44e0-ab80-ec4d958062d5",
   "metadata": {},
   "source": [
    "# adding item"
   ]
  },
  {
   "cell_type": "code",
   "execution_count": 21,
   "id": "1366a48e-c6d5-4890-aa56-412a377dddfa",
   "metadata": {},
   "outputs": [
    {
     "name": "stdout",
     "output_type": "stream",
     "text": [
      "{'name': 'Ashwini', 'loc': 'Pune', 'age': 21, 'email id': '2005ashwinipawar@gmail.com'}\n"
     ]
    }
   ],
   "source": [
    "a = {\"name\":'Ashwini',\n",
    "        \"loc\":'Pune',\n",
    "        \"age\" :21}\n",
    "a.update({\"email id\" : \"2005ashwinipawar@gmail.com\"})\n",
    "print(a)"
   ]
  },
  {
   "cell_type": "markdown",
   "id": "f5008c73-c06d-4063-b058-c8565a059038",
   "metadata": {},
   "source": [
    "# remove item"
   ]
  },
  {
   "cell_type": "code",
   "execution_count": 23,
   "id": "c1e84849-c090-4cdc-8e63-866126e50c78",
   "metadata": {},
   "outputs": [
    {
     "name": "stdout",
     "output_type": "stream",
     "text": [
      "{'name': 'Ashwini', 'loc': 'Pune'}\n"
     ]
    }
   ],
   "source": [
    "a = {\"name\":'Ashwini',\n",
    "        \"loc\":'Pune',\n",
    "        \"age\" :21}\n",
    "a.pop(\"age\")\n",
    "print(a)"
   ]
  },
  {
   "cell_type": "code",
   "execution_count": 25,
   "id": "d682e246-afa7-43ca-9b28-32574159df82",
   "metadata": {},
   "outputs": [
    {
     "name": "stdout",
     "output_type": "stream",
     "text": [
      "{'name': 'Ashwini', 'age': 21}\n"
     ]
    }
   ],
   "source": [
    "a = {\"name\":'Ashwini',\n",
    "        \"loc\":'Pune',\n",
    "        \"age\" :21}\n",
    "del a[\"loc\"]\n",
    "print(a)"
   ]
  },
  {
   "cell_type": "markdown",
   "id": "57d3c9e5-b724-4d5f-9e7e-8efed0150b04",
   "metadata": {},
   "source": [
    "# clear"
   ]
  },
  {
   "cell_type": "code",
   "execution_count": 28,
   "id": "3c625bb0-b012-492e-9fed-6f8d1643c36e",
   "metadata": {},
   "outputs": [
    {
     "name": "stdout",
     "output_type": "stream",
     "text": [
      "{}\n",
      "<class 'dict'>\n"
     ]
    }
   ],
   "source": [
    "# provide the empty dictionary\n",
    "a = {\"name\":'Ashwini',\n",
    "        \"loc\":'Pune',\n",
    "        \"age\" :21}\n",
    "a.clear()\n",
    "print(a)\n",
    "print(type(a))"
   ]
  },
  {
   "cell_type": "markdown",
   "id": "21d07c91-7e5a-49c2-8561-35eb50432f51",
   "metadata": {},
   "source": [
    "# concatenation"
   ]
  },
  {
   "cell_type": "code",
   "execution_count": 32,
   "id": "25beba7f-c7e9-4b4e-a4cb-65e6a37fdb23",
   "metadata": {},
   "outputs": [
    {
     "name": "stdout",
     "output_type": "stream",
     "text": [
      "{1: 10, 2: 20, 3: 30, 4: 40}\n"
     ]
    }
   ],
   "source": [
    "dict1 = {1:10,2:20}\n",
    "dict2 = {3:30,4:40}\n",
    "dict3 = {}\n",
    "for d in (dict1,dict2):dict3.update(d)\n",
    "print(dict3)"
   ]
  },
  {
   "cell_type": "code",
   "execution_count": 33,
   "id": "a372dd81-d65b-4bdf-aab6-d9900e4c7226",
   "metadata": {},
   "outputs": [
    {
     "name": "stdout",
     "output_type": "stream",
     "text": [
      "{1: 1, 2: 4, 3: 9, 4: 16, 5: 25, 6: 36, 7: 49, 8: 64, 9: 81, 10: 100, 11: 121, 12: 144, 13: 169, 14: 196, 15: 225}\n"
     ]
    }
   ],
   "source": [
    "d = dict()\n",
    "for x in range(1,16):\n",
    "    d[x] = x**2\n",
    "print(d)"
   ]
  },
  {
   "cell_type": "code",
   "execution_count": null,
   "id": "71188a8b-5ce4-4f66-9642-757ae25c8bde",
   "metadata": {},
   "outputs": [],
   "source": []
  }
 ],
 "metadata": {
  "kernelspec": {
   "display_name": "Python 3 (ipykernel)",
   "language": "python",
   "name": "python3"
  },
  "language_info": {
   "codemirror_mode": {
    "name": "ipython",
    "version": 3
   },
   "file_extension": ".py",
   "mimetype": "text/x-python",
   "name": "python",
   "nbconvert_exporter": "python",
   "pygments_lexer": "ipython3",
   "version": "3.13.5"
  }
 },
 "nbformat": 4,
 "nbformat_minor": 5
}
