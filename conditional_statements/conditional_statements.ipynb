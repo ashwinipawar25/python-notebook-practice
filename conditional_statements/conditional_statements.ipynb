{
 "cells": [
  {
   "cell_type": "markdown",
   "id": "7d1a70f8-9ac4-442e-a470-b4590784b4e9",
   "metadata": {},
   "source": [
    "# Control Flow Statement"
   ]
  },
  {
   "cell_type": "markdown",
   "id": "b46d406c-6f58-4ba0-8241-5160714ad8e2",
   "metadata": {},
   "source": [
    "# *️⃣Conditional Statements"
   ]
  },
  {
   "cell_type": "markdown",
   "id": "07c509d5-2cda-4ad4-aa2a-6bfc155bef72",
   "metadata": {},
   "source": [
    "# if Condition"
   ]
  },
  {
   "cell_type": "code",
   "execution_count": 8,
   "id": "2184fbcc-d1cf-4722-8c5d-34b33a7be1c0",
   "metadata": {},
   "outputs": [
    {
     "name": "stdin",
     "output_type": "stream",
     "text": [
      "Enter the name of a student:  Ashwini\n",
      "enter the marks scored in english 80\n",
      "enter the marks scored in hindi 78\n",
      "enter the marks scored in maths 92\n",
      "enter the marks scored in science 78\n",
      "enter the marks scored in social 80\n"
     ]
    },
    {
     "name": "stdout",
     "output_type": "stream",
     "text": [
      "the percent scored by student is  81.6\n"
     ]
    }
   ],
   "source": [
    "# Write the program to calculate the percentage of a student in the subjects maths science social ah hindi\n",
    "x = input(\"Enter the name of a student: \")\n",
    "a = int(input(\"enter the marks scored in english\"))\n",
    "b = int(input(\"enter the marks scored in hindi\"))\n",
    "c = int(input(\"enter the marks scored in maths\"))\n",
    "d = int(input(\"enter the marks scored in science\"))\n",
    "e = int(input(\"enter the marks scored in social\"))\n",
    "n = ((a+b+c+d+e)/500)*100\n",
    "print(\"the percent scored by student is \",n)"
   ]
  },
  {
   "cell_type": "code",
   "execution_count": 9,
   "id": "3f25a7bf-b48a-41d8-a0e8-c5322ae60879",
   "metadata": {},
   "outputs": [
    {
     "name": "stdout",
     "output_type": "stream",
     "text": [
      "B grade\n"
     ]
    }
   ],
   "source": [
    "if a >=90:\n",
    "    print(\"A grade\")\n",
    "if a >= 75 and a <90:\n",
    "    print(\"B grade\")\n",
    "if a >= 65 and a <75:\n",
    "    print(\"c grade\")"
   ]
  },
  {
   "cell_type": "markdown",
   "id": "2f9a842a-c7e5-4071-8c9a-1f6cb5799706",
   "metadata": {},
   "source": [
    "# if else statement"
   ]
  },
  {
   "cell_type": "code",
   "execution_count": 11,
   "id": "fd031e4a-8294-49f4-b659-75147b16b602",
   "metadata": {},
   "outputs": [
    {
     "name": "stdin",
     "output_type": "stream",
     "text": [
      "Enter the number 43\n"
     ]
    },
    {
     "name": "stdout",
     "output_type": "stream",
     "text": [
      "Bye\n"
     ]
    }
   ],
   "source": [
    "# Write a program to display hello if number enetered by a user is a multiple of 5 else print bye\n",
    "a = int(input(\"Enter the number\"))\n",
    "if(a%5==0):\n",
    "    print(\"Hello\")\n",
    "else:\n",
    "    print(\"Bye\")"
   ]
  },
  {
   "cell_type": "code",
   "execution_count": 14,
   "id": "342630ec-b056-4b4c-9751-0da50597d31d",
   "metadata": {},
   "outputs": [
    {
     "name": "stdin",
     "output_type": "stream",
     "text": [
      "Enter the number -1\n"
     ]
    },
    {
     "name": "stdout",
     "output_type": "stream",
     "text": [
      "Number is negative\n"
     ]
    }
   ],
   "source": [
    "# check the number is positive or negative\n",
    "a = int(input(\"Enter the number\"))\n",
    "if(a>0):\n",
    "    print(\"Number is positive\")\n",
    "else:\n",
    "    print(\"Number is negative\")"
   ]
  },
  {
   "cell_type": "markdown",
   "id": "09e1105a-8ea1-4105-bb6b-68c8b95e9a24",
   "metadata": {},
   "source": [
    "# if-elif-else statement"
   ]
  },
  {
   "cell_type": "raw",
   "id": "d2018422-fe95-4139-a6a9-ec2780cb1047",
   "metadata": {},
   "source": [
    "# Accept the city and print its monument\n",
    "Delhi - Red Fort\n",
    "Agra - Taj Mahal\n",
    "Jaipur - Jalmahal\n",
    "Orissa - Konak temple\n",
    "Hyderabad - charminar\n",
    "other - record not found "
   ]
  },
  {
   "cell_type": "code",
   "execution_count": 18,
   "id": "e98cb1e1-2790-4225-b991-13f4e492532a",
   "metadata": {},
   "outputs": [
    {
     "name": "stdin",
     "output_type": "stream",
     "text": [
      "Enter the city Delhi\n"
     ]
    },
    {
     "name": "stdout",
     "output_type": "stream",
     "text": [
      "The monument in delhi is Red Fort\n"
     ]
    }
   ],
   "source": [
    "city = input(\"Enter the city\")\n",
    "if(city == \"Delhi\"):\n",
    "    print(\"The monument in delhi is Red Fort\")\n",
    "elif(city == \"Agra\" ):\n",
    "    print(\"The monument in delhi is Taj Mahal\")\n",
    "elif(city == \"Jaipur\"):\n",
    "    print(\"The monument in delhi is Jalmahal\")\n",
    "elif(city == \"Orissa\"):\n",
    "    print(\"The monument in delhi is Konak temple\")\n",
    "elif(city == \"Hyderabad\"):\n",
    "    print(\"The monument in delhi is charminar\")\n",
    "else:\n",
    "    print(\"record not found\")"
   ]
  },
  {
   "cell_type": "code",
   "execution_count": null,
   "id": "d8f211ed-ca47-4eaf-bb0e-4ebc29332d2f",
   "metadata": {},
   "outputs": [],
   "source": []
  },
  {
   "cell_type": "code",
   "execution_count": null,
   "id": "018118a7-2c05-4f2c-badf-0bfdd57e9b94",
   "metadata": {},
   "outputs": [],
   "source": []
  }
 ],
 "metadata": {
  "kernelspec": {
   "display_name": "Python 3 (ipykernel)",
   "language": "python",
   "name": "python3"
  },
  "language_info": {
   "codemirror_mode": {
    "name": "ipython",
    "version": 3
   },
   "file_extension": ".py",
   "mimetype": "text/x-python",
   "name": "python",
   "nbconvert_exporter": "python",
   "pygments_lexer": "ipython3",
   "version": "3.13.5"
  }
 },
 "nbformat": 4,
 "nbformat_minor": 5
}
