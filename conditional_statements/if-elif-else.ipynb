{
 "cells": [
  {
   "cell_type": "markdown",
   "id": "1f3f6c2d-d88c-4832-ab79-8a902ea9f554",
   "metadata": {},
   "source": [
    "# if-elif-else statement "
   ]
  },
  {
   "cell_type": "code",
   "execution_count": 12,
   "id": "db8c80bb-50cc-4d0e-8f5c-33a7a404cce7",
   "metadata": {},
   "outputs": [
    {
     "name": "stdin",
     "output_type": "stream",
     "text": [
      "Enter the Number: 0\n"
     ]
    },
    {
     "name": "stdout",
     "output_type": "stream",
     "text": [
      "Number is Zero\n"
     ]
    }
   ],
   "source": [
    "# Check number is positive,negative or zero\n",
    "\n",
    "num = int(input(\"Enter the Number:\"))\n",
    "\n",
    "if num > 0:\n",
    "    print(\"Number is Positive\")\n",
    "elif num < 0:\n",
    "    print(\"Number is Negative\")\n",
    "else:\n",
    "    print(\"Number is Zero\")"
   ]
  },
  {
   "cell_type": "code",
   "execution_count": 13,
   "id": "f980f15c-3d5b-406d-8e64-5a98effa7e58",
   "metadata": {},
   "outputs": [
    {
     "name": "stdin",
     "output_type": "stream",
     "text": [
      "Enter the marks: 65\n"
     ]
    },
    {
     "name": "stdout",
     "output_type": "stream",
     "text": [
      "Grade:D\n"
     ]
    }
   ],
   "source": [
    "# Write a python program to check the grade of student \n",
    "\n",
    "marks = int(input(\"Enter the marks:\"))\n",
    "\n",
    "if marks >= 90:\n",
    "    print(\"Grade:A\")\n",
    "elif marks >= 80:\n",
    "    print(\"Grade:B\")\n",
    "elif marks >= 70:\n",
    "    print(\"Grade:c\")\n",
    "elif marks >= 60:\n",
    "    print(\"Grade:D\")\n",
    "else:\n",
    "    print(\"Grade:F\")"
   ]
  },
  {
   "cell_type": "code",
   "execution_count": 16,
   "id": "29fdcfac-5496-40e8-a1f8-a2de35b16de0",
   "metadata": {},
   "outputs": [
    {
     "name": "stdin",
     "output_type": "stream",
     "text": [
      "Enter the number: 5\n"
     ]
    },
    {
     "name": "stdout",
     "output_type": "stream",
     "text": [
      "Friday\n"
     ]
    }
   ],
   "source": [
    "# Write the python program to check the day of the week when the user enters a number between 1 and 7 if the number enter the outside of range 1-7 print “error, out of range”\n",
    "\n",
    "num = int(input(\"Enter the number:\"))\n",
    "\n",
    "if num == 1:\n",
    "    print(\"Monday\")\n",
    "elif num == 2:\n",
    "    print(\"Tuesday\")\n",
    "elif num == 3:\n",
    "    print(\"Wednesday\") \n",
    "elif num == 4:\n",
    "    print(\"Thursday\")\n",
    "elif num == 5:\n",
    "    print(\"Friday\")\n",
    "elif num == 6:\n",
    "    print(\"Saturday\") \n",
    "elif num == 7:\n",
    "    print(\"Sanday\") \n",
    "else:\n",
    "    print(\"error, out of range\")\n",
    "\n",
    "\n"
   ]
  },
  {
   "cell_type": "code",
   "execution_count": null,
   "id": "3235ab78-3165-43c3-9fd5-fd77bbb5f1c4",
   "metadata": {},
   "outputs": [],
   "source": [
    "# write the python program that ask the current hour and display the greeting message for the user \n",
    "\n",
    "hour = int(input(\"Enter the current hour\"))\n",
    "\n",
    "if hour < 12:\n",
    "    print(\"Good morning!\")\n",
    "elif hour < 18:\n",
    "    print(\"Good afternoon!\")\n",
    "else:\n",
    "    print(\"Good evening!\")"
   ]
  }
 ],
 "metadata": {
  "kernelspec": {
   "display_name": "Python 3 (ipykernel)",
   "language": "python",
   "name": "python3"
  },
  "language_info": {
   "codemirror_mode": {
    "name": "ipython",
    "version": 3
   },
   "file_extension": ".py",
   "mimetype": "text/x-python",
   "name": "python",
   "nbconvert_exporter": "python",
   "pygments_lexer": "ipython3",
   "version": "3.13.5"
  }
 },
 "nbformat": 4,
 "nbformat_minor": 5
}
