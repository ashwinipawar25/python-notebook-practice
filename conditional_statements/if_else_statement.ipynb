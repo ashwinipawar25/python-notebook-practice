{
  "nbformat": 4,
  "nbformat_minor": 0,
  "metadata": {
    "colab": {
      "provenance": []
    },
    "kernelspec": {
      "name": "python3",
      "display_name": "Python 3"
    },
    "language_info": {
      "name": "python"
    }
  },
  "cells": [
    {
      "cell_type": "code",
      "execution_count": 1,
      "metadata": {
        "colab": {
          "base_uri": "https://localhost:8080/"
        },
        "id": "oTLtLOPPoIyC",
        "outputId": "394e56fd-6bef-4ff9-bb6d-2b57e2c55a11"
      },
      "outputs": [
        {
          "output_type": "stream",
          "name": "stdout",
          "text": [
            "x is not greater than 5\n"
          ]
        }
      ],
      "source": [
        "# if-else statement\n",
        "x = 3;\n",
        "if x > 5:\n",
        "  print(\"x is greater than 5\")\n",
        "else:\n",
        "  print(\"x is not greater than 5\")"
      ]
    },
    {
      "cell_type": "code",
      "source": [
        "x = 2\n",
        "y = 5\n",
        "if(x == y):\n",
        "  print(\"x is equal to y\")\n",
        "else:\n",
        "  print(\"x is not equal to y\")"
      ],
      "metadata": {
        "colab": {
          "base_uri": "https://localhost:8080/"
        },
        "id": "uzDW_SLRpJ-1",
        "outputId": "90c8ffc3-50c4-4e65-a22e-de84e3cb4063"
      },
      "execution_count": 2,
      "outputs": [
        {
          "output_type": "stream",
          "name": "stdout",
          "text": [
            "x is not equal to y\n"
          ]
        }
      ]
    },
    {
      "cell_type": "code",
      "source": [
        "a = 10\n",
        "b = 3\n",
        "if(a < b):\n",
        "  print(\"a is grater\")\n",
        "else:\n",
        "  print(\"b is greater\")"
      ],
      "metadata": {
        "colab": {
          "base_uri": "https://localhost:8080/"
        },
        "id": "sH6aufcnptqp",
        "outputId": "92e57749-0d32-4aaa-f258-a4c55a523213"
      },
      "execution_count": 3,
      "outputs": [
        {
          "output_type": "stream",
          "name": "stdout",
          "text": [
            "b is greater\n"
          ]
        }
      ]
    },
    {
      "cell_type": "code",
      "source": [
        "# Check Number is positive or negative\n",
        "num = int(input(\"Enter the number\"))\n",
        "\n",
        "if(num >= 0):\n",
        "  print(\"number is positive\")\n",
        "else:\n",
        "  print(\"number is negative\")"
      ],
      "metadata": {
        "colab": {
          "base_uri": "https://localhost:8080/"
        },
        "id": "wEGFLzd2qOK1",
        "outputId": "64a6352c-c0f8-4177-a11e-4241a67b6bb9"
      },
      "execution_count": 6,
      "outputs": [
        {
          "output_type": "stream",
          "name": "stdout",
          "text": [
            "Enter the number0\n",
            "number is positive\n"
          ]
        }
      ]
    },
    {
      "cell_type": "code",
      "source": [
        "# Check Number is odd or even\n",
        "num = int(input(\"Enter the number\"))\n",
        "\n",
        "if(num % 2 == 0):\n",
        "  print(\"Number is even\")\n",
        "else:\n",
        "  print(\"Number is odd\")\n",
        "\n"
      ],
      "metadata": {
        "colab": {
          "base_uri": "https://localhost:8080/"
        },
        "id": "8L_e3JsCrBTE",
        "outputId": "98cef054-3d94-4434-a785-58d7190c47f2"
      },
      "execution_count": 7,
      "outputs": [
        {
          "output_type": "stream",
          "name": "stdout",
          "text": [
            "Enter the number2\n",
            "Number is even\n"
          ]
        }
      ]
    },
    {
      "cell_type": "code",
      "source": [
        "# Check you are eligible for vote\n",
        "age = int(input(\"Enter Your Age:\"))\n",
        "\n",
        "if(age >= 18):\n",
        "  print(\"you are eligible for vote\" )\n",
        "else:\n",
        "  print(\"you are not eligible for vote\")"
      ],
      "metadata": {
        "colab": {
          "base_uri": "https://localhost:8080/"
        },
        "id": "AcAXXOfesxv0",
        "outputId": "87384445-db1c-4772-f205-56659816e26a"
      },
      "execution_count": 11,
      "outputs": [
        {
          "output_type": "stream",
          "name": "stdout",
          "text": [
            "Enter Your Age:2\n",
            "you are not eligible for vote\n"
          ]
        }
      ]
    },
    {
      "cell_type": "code",
      "source": [
        "# Check password match\n",
        "PW = int(input(\"Enter the password: \"))\n",
        "CPW = int(input(\"Enter the confirm password: \"))\n",
        "\n",
        "if(PW == CPW):\n",
        "  print(\"Password match\")\n",
        "else:\n",
        "  print(\"password does not match\")\n"
      ],
      "metadata": {
        "colab": {
          "base_uri": "https://localhost:8080/"
        },
        "collapsed": true,
        "id": "47WP6DUWudNu",
        "outputId": "6677f413-404e-49fb-fa72-55e7430997cd"
      },
      "execution_count": 15,
      "outputs": [
        {
          "output_type": "stream",
          "name": "stdout",
          "text": [
            "Enter the password: 123456\n",
            "Enter the confirm password: 098765\n",
            "password does not match\n"
          ]
        }
      ]
    },
    {
      "cell_type": "code",
      "source": [
        "character = input(\"Enter the letter: \")\n",
        "\n",
        "if character in'aieouAEIOU':\n",
        "  print(\"character is vowel\")\n",
        "else:\n",
        "  print(\"character is consonent\")"
      ],
      "metadata": {
        "colab": {
          "base_uri": "https://localhost:8080/"
        },
        "id": "LVEuSzu1wPp7",
        "outputId": "6b3b083b-72bd-4637-b3b3-35fa325b4ceb"
      },
      "execution_count": 21,
      "outputs": [
        {
          "output_type": "stream",
          "name": "stdout",
          "text": [
            "Enter the letter: e\n",
            "character is vowel\n"
          ]
        }
      ]
    }
  ]
}
