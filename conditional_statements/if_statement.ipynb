{
  "nbformat": 4,
  "nbformat_minor": 0,
  "metadata": {
    "colab": {
      "provenance": []
    },
    "kernelspec": {
      "name": "python3",
      "display_name": "Python 3"
    },
    "language_info": {
      "name": "python"
    }
  },
  "cells": [
    {
      "cell_type": "code",
      "execution_count": 1,
      "metadata": {
        "colab": {
          "base_uri": "https://localhost:8080/"
        },
        "id": "01otbzh4nuYB",
        "outputId": "2f27b13d-289b-4978-9d04-a873171f6ee1"
      },
      "outputs": [
        {
          "output_type": "stream",
          "name": "stdout",
          "text": [
            "b is a greater than a\n"
          ]
        }
      ],
      "source": [
        "# If statement\n",
        "a = 20;\n",
        "b = 30;\n",
        "if b > a:\n",
        "  print(\"b is a greater than a\")"
      ]
    },
    {
      "cell_type": "code",
      "source": [
        "a = 10\n",
        "b = 20\n",
        "if a != b:\n",
        "  print(\"a & b is not equal\")"
      ],
      "metadata": {
        "colab": {
          "base_uri": "https://localhost:8080/"
        },
        "id": "wKSCvxdLoKVP",
        "outputId": "39cb03d6-d381-440d-829f-b85ad1738685"
      },
      "execution_count": 2,
      "outputs": [
        {
          "output_type": "stream",
          "name": "stdout",
          "text": [
            "a & b is not equal\n"
          ]
        }
      ]
    },
    {
      "cell_type": "code",
      "source": [
        "a = 10;\n",
        "b = 20;\n",
        "c = 30;\n",
        "if a < b and b < c and c > a:\n",
        "  print(\"All condition are true\")"
      ],
      "metadata": {
        "colab": {
          "base_uri": "https://localhost:8080/"
        },
        "id": "dq_z1UWXowGf",
        "outputId": "d7f1e1cf-0719-4f2e-dd7b-a8d0093a4870"
      },
      "execution_count": 5,
      "outputs": [
        {
          "output_type": "stream",
          "name": "stdout",
          "text": [
            "All condition are true\n"
          ]
        }
      ]
    },
    {
      "cell_type": "code",
      "source": [
        "a = 10;\n",
        "b = 20;\n",
        "c = 30;\n",
        "if a > b or b > c or c > a :\n",
        "  print(\"At least one of the conditions is true\")"
      ],
      "metadata": {
        "colab": {
          "base_uri": "https://localhost:8080/"
        },
        "id": "78Q4tVeZphNj",
        "outputId": "a852a3e6-0ace-4094-e4f5-061ca91ccf13"
      },
      "execution_count": 6,
      "outputs": [
        {
          "output_type": "stream",
          "name": "stdout",
          "text": [
            "At least one of the conditions is true\n"
          ]
        }
      ]
    },
    {
      "cell_type": "code",
      "source": [],
      "metadata": {
        "id": "bC4hi-thp-gf"
      },
      "execution_count": null,
      "outputs": []
    }
  ]
}