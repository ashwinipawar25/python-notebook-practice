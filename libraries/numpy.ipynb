{
 "cells": [
  {
   "cell_type": "markdown",
   "id": "a54b8fc7-ee8f-440a-a8b2-103de9ef5479",
   "metadata": {},
   "source": [
    "# NumPy Library in python"
   ]
  },
  {
   "cell_type": "raw",
   "id": "c9cc35ac-f975-42ef-94cd-e080617c33f0",
   "metadata": {},
   "source": [
    "NumPy(Numerical Python) is an open source Python library "
   ]
  },
  {
   "cell_type": "raw",
   "id": "c4b21308-deb4-4114-8c89-a1cda5e2635a",
   "metadata": {},
   "source": [
    "The NumPy library contains a multidimensional array and matrix data structures"
   ]
  },
  {
   "cell_type": "raw",
   "id": "ff3edbcb-24e9-46ce-a7ca-facff0b1abec",
   "metadata": {},
   "source": [
    "The python we have list that serve the purpose of array.the array object in numpy is called ndarray.Numpy array stored at one continuous place in memory unlike list,so process can access and manipulate them very efficiently"
   ]
  },
  {
   "cell_type": "markdown",
   "id": "8a62fa35-158d-49b0-bf81-77dcf35cc9c8",
   "metadata": {},
   "source": [
    "# Import Numpy Library"
   ]
  },
  {
   "cell_type": "code",
   "execution_count": 3,
   "id": "d6825062-6e45-4a96-9ef5-988fd78a9e6d",
   "metadata": {},
   "outputs": [],
   "source": [
    "import numpy as np"
   ]
  },
  {
   "cell_type": "code",
   "execution_count": 4,
   "id": "3f3050ab-dd75-446a-8f12-4bb166e01bc9",
   "metadata": {},
   "outputs": [
    {
     "name": "stdout",
     "output_type": "stream",
     "text": [
      "[1 2 3 4 5]\n",
      "<class 'numpy.ndarray'>\n"
     ]
    }
   ],
   "source": [
    "arr = np.array([1,2,3,4,5])\n",
    "print(arr)\n",
    "print(type(arr))"
   ]
  },
  {
   "cell_type": "code",
   "execution_count": 6,
   "id": "0ac45672-4e5b-4785-a54f-f00adcade986",
   "metadata": {},
   "outputs": [
    {
     "name": "stdout",
     "output_type": "stream",
     "text": [
      "[1 2 3 4 5]\n",
      "<class 'numpy.ndarray'>\n"
     ]
    }
   ],
   "source": [
    "arr1 = np.array((1,2,3,4,5))\n",
    "print(arr1)\n",
    "print(type(arr1))"
   ]
  },
  {
   "cell_type": "markdown",
   "id": "010cc8cb-1966-4bd1-b948-989fee731ea2",
   "metadata": {},
   "source": [
    "# Dimensions of array"
   ]
  },
  {
   "cell_type": "code",
   "execution_count": 9,
   "id": "590491ec-0c50-44f0-83e8-9573c85ac0dc",
   "metadata": {},
   "outputs": [
    {
     "name": "stdout",
     "output_type": "stream",
     "text": [
      "20\n",
      "<class 'numpy.ndarray'>\n",
      "Dimension of array: 0\n"
     ]
    }
   ],
   "source": [
    "arr = np.array(20)\n",
    "print(arr)\n",
    "print(type(arr))\n",
    "print(\"Dimension of array:\",arr.ndim)"
   ]
  },
  {
   "cell_type": "markdown",
   "id": "0f8bd74f-3cad-4fe6-b808-9f7a73a51405",
   "metadata": {},
   "source": [
    "# 1 d array"
   ]
  },
  {
   "cell_type": "code",
   "execution_count": 15,
   "id": "5cf1f4e5-22d6-4de5-a454-f5f73e867e44",
   "metadata": {},
   "outputs": [
    {
     "name": "stdout",
     "output_type": "stream",
     "text": [
      "[1 2 3 4 5]\n",
      "Dimension of array: 1\n"
     ]
    }
   ],
   "source": [
    "arr = np.array([1,2,3,4,5])\n",
    "print(arr)\n",
    "print(\"Dimension of array:\",arr.ndim)"
   ]
  },
  {
   "cell_type": "markdown",
   "id": "f5426b23-fa28-4bd6-8bce-00436f518951",
   "metadata": {},
   "source": [
    "# 2 d array"
   ]
  },
  {
   "cell_type": "code",
   "execution_count": 16,
   "id": "9ee10869-9c33-41f5-93fc-554097e5e05f",
   "metadata": {},
   "outputs": [
    {
     "name": "stdout",
     "output_type": "stream",
     "text": [
      "[[1 2 3]\n",
      " [4 5 6]]\n",
      "Dimension of array: 2\n"
     ]
    }
   ],
   "source": [
    "arr = np.array([[1,2,3],[4,5,6]])\n",
    "print(arr)\n",
    "print(\"Dimension of array:\",arr.ndim)"
   ]
  },
  {
   "cell_type": "markdown",
   "id": "d60ed8e3-9802-4a5d-8452-1b11127b2f9d",
   "metadata": {},
   "source": [
    "# 3 d array"
   ]
  },
  {
   "cell_type": "code",
   "execution_count": 18,
   "id": "cd82b718-ad2a-4f8b-8255-757f90cbd146",
   "metadata": {},
   "outputs": [
    {
     "name": "stdout",
     "output_type": "stream",
     "text": [
      "[[[1 2 3]\n",
      "  [2 3 4]]]\n",
      "Dimension of array: 3\n"
     ]
    }
   ],
   "source": [
    "arr = np.array([[[1,2,3],[2,3,4]]])\n",
    "print(arr)\n",
    "print(\"Dimension of array:\",arr.ndim)"
   ]
  },
  {
   "cell_type": "markdown",
   "id": "77a643ec-a572-4f34-a152-4d98f0d45e2b",
   "metadata": {},
   "source": [
    "# Check Number of Dimensions?"
   ]
  },
  {
   "cell_type": "code",
   "execution_count": 21,
   "id": "d4665b02-0da9-49ad-b469-f17603783c80",
   "metadata": {},
   "outputs": [
    {
     "name": "stdout",
     "output_type": "stream",
     "text": [
      "Dimension of array of a : 0\n",
      "Dimension of array of b : 1\n",
      "Dimension of array of c : 2\n",
      "Dimension of array of d : 3\n"
     ]
    }
   ],
   "source": [
    "a = np.array(42)\n",
    "b = np.array([1,2,3,4])\n",
    "c = np.array([[1,2,3],[1,2,3]])\n",
    "d = np.array([[[1,2,3],[1,2,3]]])\n",
    "\n",
    "print(\"Dimension of array of a :\",a.ndim)\n",
    "print(\"Dimension of array of b :\",b.ndim)\n",
    "print(\"Dimension of array of c :\",c.ndim)\n",
    "print(\"Dimension of array of d :\",d.ndim)"
   ]
  },
  {
   "cell_type": "markdown",
   "id": "7b7bd3f1-6a7c-485a-927c-704f1717d3b4",
   "metadata": {},
   "source": [
    "# indexing of the element"
   ]
  },
  {
   "cell_type": "code",
   "execution_count": 22,
   "id": "ece54a91-ce22-430c-9605-fc725fff0d74",
   "metadata": {},
   "outputs": [
    {
     "name": "stdout",
     "output_type": "stream",
     "text": [
      "2nd element on 1st row: 20\n"
     ]
    }
   ],
   "source": [
    "arr = np.array([[10,20,30,40],[50,60,70,80]])\n",
    "print(\"2nd element on 1st row:\",arr[0,1])"
   ]
  },
  {
   "cell_type": "code",
   "execution_count": 26,
   "id": "b5d1fb55-03b3-4aa4-a6af-8a8a93700cb6",
   "metadata": {},
   "outputs": [
    {
     "name": "stdout",
     "output_type": "stream",
     "text": [
      "4th element on 1st row: 80\n"
     ]
    }
   ],
   "source": [
    "arr = np.array([[10,20,30,40],[50,60,70,80]])\n",
    "print(\"4th element on 1st row:\",arr[1,3])"
   ]
  },
  {
   "cell_type": "markdown",
   "id": "0a653e67-35ff-43a0-b27b-fceee3627870",
   "metadata": {},
   "source": [
    "# 3 d array indexing"
   ]
  },
  {
   "cell_type": "code",
   "execution_count": 27,
   "id": "cc3d91a2-8853-425f-b269-ec9e2a000306",
   "metadata": {},
   "outputs": [
    {
     "name": "stdout",
     "output_type": "stream",
     "text": [
      "6\n"
     ]
    }
   ],
   "source": [
    "arr = np.array([[[1,2,3], [4,5,6], [7,8,9], [10,11,12]]])\n",
    "print(arr[0,1,2])"
   ]
  },
  {
   "cell_type": "code",
   "execution_count": 29,
   "id": "8e9f4f6a-53b4-4b8d-bd72-6eb834921092",
   "metadata": {},
   "outputs": [
    {
     "name": "stdout",
     "output_type": "stream",
     "text": [
      "12\n"
     ]
    }
   ],
   "source": [
    "arr = np.array([[[1,2,3], [4,5,6], [7,8,9], [10,11,12]]])\n",
    "print(arr[0,3,2])"
   ]
  },
  {
   "cell_type": "code",
   "execution_count": 30,
   "id": "1afff0bc-de68-41d8-b91c-0f46de8020a0",
   "metadata": {},
   "outputs": [
    {
     "name": "stdout",
     "output_type": "stream",
     "text": [
      "7\n"
     ]
    }
   ],
   "source": [
    "arr = np.array([[[1,2,3], [4,5,6], [7,8,9], [10,11,12]]])\n",
    "print(arr[0,2,0])"
   ]
  },
  {
   "cell_type": "markdown",
   "id": "d6ef2739-a1b9-4d83-8999-996486f7e02c",
   "metadata": {},
   "source": [
    "# slicing of numpy arrays"
   ]
  },
  {
   "cell_type": "code",
   "execution_count": 1,
   "id": "294993bf-9527-4778-93eb-f275e3c034e2",
   "metadata": {},
   "outputs": [],
   "source": [
    "import numpy as np\n"
   ]
  },
  {
   "cell_type": "code",
   "execution_count": 3,
   "id": "f4a0db96-4cbb-46b0-9dea-a29e8962082a",
   "metadata": {},
   "outputs": [
    {
     "name": "stdout",
     "output_type": "stream",
     "text": [
      "[2 3 4 5]\n"
     ]
    }
   ],
   "source": [
    "arr = np.array([1,2,3,4,5,6,7])\n",
    "print(arr[1:5])"
   ]
  },
  {
   "cell_type": "code",
   "execution_count": 4,
   "id": "e1524e48-a9ff-487f-b5d0-25a801fc81c8",
   "metadata": {},
   "outputs": [
    {
     "name": "stdout",
     "output_type": "stream",
     "text": [
      "[1 3 5 7]\n"
     ]
    }
   ],
   "source": [
    "print(arr[::2])"
   ]
  },
  {
   "cell_type": "markdown",
   "id": "47cac03c-8417-4f0f-9a68-1d3c6bb97e81",
   "metadata": {},
   "source": [
    "# Slicing in 2d array"
   ]
  },
  {
   "cell_type": "code",
   "execution_count": 7,
   "id": "5918d0ac-f60a-4bbc-8764-d2cf5cb04832",
   "metadata": {},
   "outputs": [
    {
     "name": "stdout",
     "output_type": "stream",
     "text": [
      "[70 80 90]\n"
     ]
    }
   ],
   "source": [
    "a = np.array([[10,20,30,40,50],[60,70,80,90,100]])\n",
    "print(a[1,1:4])"
   ]
  },
  {
   "cell_type": "code",
   "execution_count": 8,
   "id": "e52535f9-3ae6-497f-95a8-af8a6ded845e",
   "metadata": {},
   "outputs": [
    {
     "name": "stdout",
     "output_type": "stream",
     "text": [
      "[10 20 30 40 50]\n"
     ]
    }
   ],
   "source": [
    "print(a[0,0:5])"
   ]
  },
  {
   "cell_type": "markdown",
   "id": "59878ab3-c5d4-47f8-975e-3e347e1556e6",
   "metadata": {},
   "source": [
    "# checking the data type of an array"
   ]
  },
  {
   "cell_type": "code",
   "execution_count": 10,
   "id": "879d96da-5cfb-4300-9ce9-28e2e085204f",
   "metadata": {},
   "outputs": [
    {
     "name": "stdout",
     "output_type": "stream",
     "text": [
      "int64\n"
     ]
    }
   ],
   "source": [
    "arr = np.array([1,2,3,4,5])\n",
    "print(arr.dtype)"
   ]
  },
  {
   "cell_type": "code",
   "execution_count": 11,
   "id": "93458b88-8da7-41d2-9a5a-6847f33107d0",
   "metadata": {},
   "outputs": [
    {
     "name": "stdout",
     "output_type": "stream",
     "text": [
      "<U21\n"
     ]
    }
   ],
   "source": [
    "arr1 = np.array([[1,2,3,4],[\"Asghwini\",\"Pune\",\"21\",\"Data analyst\"]])\n",
    "print(arr1.dtype)"
   ]
  },
  {
   "cell_type": "markdown",
   "id": "41d2eebd-d2b0-491d-b12a-566810c00904",
   "metadata": {},
   "source": [
    "# creating array with a defined data type"
   ]
  },
  {
   "cell_type": "code",
   "execution_count": 12,
   "id": "c2fd5c50-2450-493f-8cc9-546e80173fca",
   "metadata": {},
   "outputs": [
    {
     "name": "stdout",
     "output_type": "stream",
     "text": [
      "[b'1' b'2' b'3' b'4']\n",
      "|S1\n"
     ]
    }
   ],
   "source": [
    "arr = np.array([1,2,3,4],dtype = 'S')\n",
    "print(arr)\n",
    "print(arr.dtype)"
   ]
  },
  {
   "cell_type": "markdown",
   "id": "3a4f70a3-18cd-47d8-9544-596b1574f883",
   "metadata": {},
   "source": [
    "# create an array wuith data types 4 byte integer"
   ]
  },
  {
   "cell_type": "code",
   "execution_count": 14,
   "id": "5406e489-99eb-44d6-8e73-84a6c2d6d87f",
   "metadata": {},
   "outputs": [
    {
     "name": "stdout",
     "output_type": "stream",
     "text": [
      "[1 2 3 4]\n",
      "int32\n"
     ]
    }
   ],
   "source": [
    "arr = np.array([1,2,3,4],dtype = 'i4')\n",
    "print(arr)\n",
    "print(arr.dtype)"
   ]
  },
  {
   "cell_type": "markdown",
   "id": "c7dbf4fc-f3bf-47d1-8698-f03e93b09416",
   "metadata": {},
   "source": [
    "# numpy array shape"
   ]
  },
  {
   "cell_type": "raw",
   "id": "709ddf65-4120-415b-be9b-25c79ebe1dae",
   "metadata": {},
   "source": [
    "the shape of array is the number of elements in each dimension"
   ]
  },
  {
   "cell_type": "markdown",
   "id": "bccc05b1-d238-4bf2-ba09-45b73c579f8d",
   "metadata": {},
   "source": [
    "# print the shape of a 2d array"
   ]
  },
  {
   "cell_type": "code",
   "execution_count": 16,
   "id": "a29a2d2c-d7fc-478a-8e72-8641fadedc76",
   "metadata": {},
   "outputs": [
    {
     "name": "stdout",
     "output_type": "stream",
     "text": [
      "(2, 4)\n"
     ]
    }
   ],
   "source": [
    "arr = np.array([[1,2,3,4],[5,6,7,8]])\n",
    "print(arr.shape)"
   ]
  },
  {
   "cell_type": "markdown",
   "id": "a26d7dcd-f731-430f-9262-ab4058c32c21",
   "metadata": {},
   "source": [
    "# joining numpy array"
   ]
  },
  {
   "cell_type": "code",
   "execution_count": 18,
   "id": "d96ce1dd-bffd-4410-a92e-9f4e5040b1f6",
   "metadata": {},
   "outputs": [
    {
     "name": "stdout",
     "output_type": "stream",
     "text": [
      "[1 2 3 4 5 6]\n"
     ]
    }
   ],
   "source": [
    "arr1 = np.array([1,2,3])\n",
    "arr2 = np.array([4,5,6])\n",
    "arr = np.concatenate((arr1,arr2))\n",
    "print(arr)"
   ]
  },
  {
   "cell_type": "code",
   "execution_count": 26,
   "id": "81fb8437-08d9-4fe0-9fde-b92363a1e26f",
   "metadata": {},
   "outputs": [
    {
     "name": "stdout",
     "output_type": "stream",
     "text": [
      "[[10 20 30 40  2  4]\n",
      " [ 1  2  3  4  4  5]]\n"
     ]
    }
   ],
   "source": [
    "arr1 = np.array([[10,20,30,40],[1,2,3,4]])\n",
    "arr2 = np.array([[2,4],[4,5]])\n",
    "arr =np.concatenate((arr1,arr2), axis=1)\n",
    "print(arr)"
   ]
  },
  {
   "cell_type": "markdown",
   "id": "5476e012-2f93-4da6-a0e4-2400a10c2240",
   "metadata": {},
   "source": [
    "# spliting numpy arrays"
   ]
  },
  {
   "cell_type": "markdown",
   "id": "8984997e-963d-49ce-b8d0-e43b7c1f5edf",
   "metadata": {},
   "source": [
    "# Spliting the array in 3 parts"
   ]
  },
  {
   "cell_type": "code",
   "execution_count": 27,
   "id": "17558599-037f-4e2d-a319-4f0fdb4119c6",
   "metadata": {},
   "outputs": [
    {
     "name": "stdout",
     "output_type": "stream",
     "text": [
      "[array([1, 2]), array([3, 4]), array([5, 6])]\n"
     ]
    }
   ],
   "source": [
    "arr = np.array([1,2,3,4,5,6])\n",
    "newarr = np.array_split(arr,3)\n",
    "print(newarr)"
   ]
  },
  {
   "cell_type": "markdown",
   "id": "24ec3bfd-8295-45f8-900d-74980d2d3cf5",
   "metadata": {},
   "source": [
    "# spliting the array in 4 parts"
   ]
  },
  {
   "cell_type": "code",
   "execution_count": 28,
   "id": "b4592fea-a127-4374-abfa-1fa521aafd05",
   "metadata": {},
   "outputs": [
    {
     "name": "stdout",
     "output_type": "stream",
     "text": [
      "[array([1, 2]), array([3, 4]), array([5]), array([6])]\n"
     ]
    }
   ],
   "source": [
    "arr = np.array([1,2,3,4,5,6])\n",
    "newarr = np.array_split(arr,4)\n",
    "print(newarr)"
   ]
  },
  {
   "cell_type": "markdown",
   "id": "395947eb-6f25-4f30-aa9a-c6ea25de5505",
   "metadata": {},
   "source": [
    "# ravel and flatten"
   ]
  },
  {
   "cell_type": "raw",
   "id": "a53ef610-9642-4676-b9a3-7fdf79726b5a",
   "metadata": {},
   "source": [
    "convert multidimensional array in 1d array"
   ]
  },
  {
   "cell_type": "code",
   "execution_count": 31,
   "id": "a76323d2-b5f3-4d9c-a782-4ab379ed8a6b",
   "metadata": {},
   "outputs": [
    {
     "name": "stdout",
     "output_type": "stream",
     "text": [
      "[[[1 2 3]\n",
      "  [1 2 3]]]\n",
      "3\n",
      "[1 2 3 1 2 3]\n",
      "now the new dimension is 1\n"
     ]
    }
   ],
   "source": [
    "m = np.array([[[1,2,3],[1,2,3]]])\n",
    "print(m)\n",
    "print(m.ndim)\n",
    "n = m.ravel()\n",
    "print(n)\n",
    "print(\"now the new dimension is\",n.ndim)"
   ]
  },
  {
   "cell_type": "code",
   "execution_count": 34,
   "id": "b92ced61-869c-4e83-a7da-02f7ad8e47dc",
   "metadata": {},
   "outputs": [
    {
     "name": "stdout",
     "output_type": "stream",
     "text": [
      "[[[[1 2 3 4]\n",
      "   [4 5 6 7]]]]\n",
      "4\n",
      "[1 2 3 4 4 5 6 7]\n",
      "now the new dimension is 1\n"
     ]
    }
   ],
   "source": [
    "c = np.array([[[[1,2,3,4],[4,5,6,7]]]])\n",
    "print(c)\n",
    "print(c.ndim)\n",
    "e = c.flatten()\n",
    "print(e)\n",
    "print(\"now the new dimension is\",e.ndim)"
   ]
  },
  {
   "cell_type": "markdown",
   "id": "01fd2be5-862f-497e-8068-a0cde78ea120",
   "metadata": {},
   "source": [
    "# unique function"
   ]
  },
  {
   "cell_type": "code",
   "execution_count": 36,
   "id": "6f02b92c-a9dc-400d-9671-b0de122fd7e3",
   "metadata": {},
   "outputs": [
    {
     "name": "stdout",
     "output_type": "stream",
     "text": [
      "[ 1  2  3  4  5  6  7  1  2  3 89  6 47]\n",
      "[ 1  2  3  4  5  6  7 47 89]\n"
     ]
    }
   ],
   "source": [
    "k = np.array([1,2,3,4,5,6,7,1,2,3,89,6,47])\n",
    "print(k)\n",
    "x = np.unique(k)\n",
    "print(x)"
   ]
  },
  {
   "cell_type": "code",
   "execution_count": 37,
   "id": "65c78707-5c4b-4aa2-b8c3-b6ab018dec5a",
   "metadata": {},
   "outputs": [
    {
     "name": "stdout",
     "output_type": "stream",
     "text": [
      "[ 1  2  3  4  5  6  7  1  2  3 89  6 47]\n",
      "(array([ 1,  2,  3,  4,  5,  6,  7, 47, 89]), array([ 0,  1,  2,  3,  4,  5,  6, 12, 10]))\n"
     ]
    }
   ],
   "source": [
    "k = np.array([1,2,3,4,5,6,7,1,2,3,89,6,47])\n",
    "print(k)\n",
    "x = np.unique(k,return_index = True)\n",
    "print(x)"
   ]
  },
  {
   "cell_type": "code",
   "execution_count": 39,
   "id": "735c61d6-ec9c-4eb0-96cb-c89b7c91fd7a",
   "metadata": {},
   "outputs": [
    {
     "name": "stdout",
     "output_type": "stream",
     "text": [
      "[ 1  2  3  4  5  6  7  1  2  3 89  6 47]\n",
      "(array([ 1,  2,  3,  4,  5,  6,  7, 47, 89]), array([ 0,  1,  2,  3,  4,  5,  6, 12, 10]), array([2, 2, 2, 1, 1, 2, 1, 1, 1]))\n"
     ]
    }
   ],
   "source": [
    "k = np.array([1,2,3,4,5,6,7,1,2,3,89,6,47])\n",
    "print(k)\n",
    "x = np.unique(k,return_index = True,return_counts = True)\n",
    "print(x)"
   ]
  },
  {
   "cell_type": "markdown",
   "id": "e1fb5420-0356-4fbe-8e7e-8efc1212a217",
   "metadata": {},
   "source": [
    "# delete"
   ]
  },
  {
   "cell_type": "code",
   "execution_count": 40,
   "id": "3fd00f17-3f73-47da-ac8f-d1aecc5f43f3",
   "metadata": {},
   "outputs": [
    {
     "name": "stdout",
     "output_type": "stream",
     "text": [
      "[13 45 67]\n"
     ]
    }
   ],
   "source": [
    "a = np.array([13,24,45,67])\n",
    "d = np.delete(a,[1])\n",
    "print(d)"
   ]
  },
  {
   "cell_type": "code",
   "execution_count": 42,
   "id": "36f48c7a-4d36-41d8-832f-856bf7379929",
   "metadata": {},
   "outputs": [
    {
     "ename": "TypeError",
     "evalue": "list indices must be integers or slices, not tuple",
     "output_type": "error",
     "traceback": [
      "\u001b[1;31m---------------------------------------------------------------------------\u001b[0m",
      "\u001b[1;31mTypeError\u001b[0m                                 Traceback (most recent call last)",
      "Cell \u001b[1;32mIn[42], line 1\u001b[0m\n\u001b[1;32m----> 1\u001b[0m x \u001b[38;5;241m=\u001b[39m np\u001b[38;5;241m.\u001b[39marray([[\u001b[38;5;241m2\u001b[39m,\u001b[38;5;241m7\u001b[39m,\u001b[38;5;241m9\u001b[39m,\u001b[38;5;241m6\u001b[39m,\u001b[38;5;241m8\u001b[39m],[\u001b[38;5;241m4\u001b[39m,\u001b[38;5;241m5\u001b[39m,\u001b[38;5;241m7\u001b[39m,\u001b[38;5;241m1\u001b[39m,\u001b[38;5;241m2\u001b[39m][\u001b[38;5;241m50\u001b[39m,\u001b[38;5;241m65\u001b[39m,\u001b[38;5;241m6\u001b[39m,\u001b[38;5;241m7\u001b[39m]])\n\u001b[0;32m      2\u001b[0m \u001b[38;5;28mprint\u001b[39m(x)\n\u001b[0;32m      3\u001b[0m m \u001b[38;5;241m=\u001b[39m np\u001b[38;5;241m.\u001b[39mdelete(x,\u001b[38;5;241m1\u001b[39m,axis \u001b[38;5;241m=\u001b[39m \u001b[38;5;241m0\u001b[39m)\n",
      "\u001b[1;31mTypeError\u001b[0m: list indices must be integers or slices, not tuple"
     ]
    }
   ],
   "source": [
    "x = np.array([[2,7,9,6,8],[4,5,7,1,2][50,65,6,7]])\n",
    "print(x)\n",
    "m = np.delete(x,1,axis = 0)\n",
    "print()\n",
    "print(m)"
   ]
  },
  {
   "cell_type": "code",
   "execution_count": null,
   "id": "56377f22-3c0d-4a5c-8142-6baa512cf1ed",
   "metadata": {},
   "outputs": [],
   "source": []
  }
 ],
 "metadata": {
  "kernelspec": {
   "display_name": "Python 3 (ipykernel)",
   "language": "python",
   "name": "python3"
  },
  "language_info": {
   "codemirror_mode": {
    "name": "ipython",
    "version": 3
   },
   "file_extension": ".py",
   "mimetype": "text/x-python",
   "name": "python",
   "nbconvert_exporter": "python",
   "pygments_lexer": "ipython3",
   "version": "3.13.5"
  }
 },
 "nbformat": 4,
 "nbformat_minor": 5
}
