{
 "cells": [
  {
   "cell_type": "markdown",
   "id": "295d1a30-0d7c-4ee3-923b-833944cc160d",
   "metadata": {},
   "source": [
    "# Looping Statement"
   ]
  },
  {
   "cell_type": "markdown",
   "id": "f898ab45-148b-429a-9758-36c559a9257d",
   "metadata": {},
   "source": [
    "# While loop"
   ]
  },
  {
   "cell_type": "code",
   "execution_count": 10,
   "id": "706ac9f6-0b9a-4e3c-a5c3-4959b653b17d",
   "metadata": {},
   "outputs": [
    {
     "name": "stdout",
     "output_type": "stream",
     "text": [
      "1\n",
      "2\n",
      "3\n",
      "4\n",
      "5\n"
     ]
    }
   ],
   "source": [
    "# print number from 1 to 5 using loop\n",
    "count = 1\n",
    "while count < 6:\n",
    "    print(count)\n",
    "    count += 1\n",
    "    "
   ]
  },
  {
   "cell_type": "code",
   "execution_count": 12,
   "id": "4867cc2e-9032-46dc-bf00-793f597c9c10",
   "metadata": {},
   "outputs": [
    {
     "name": "stdout",
     "output_type": "stream",
     "text": [
      "5\n",
      "4\n",
      "3\n",
      "2\n",
      "1\n"
     ]
    }
   ],
   "source": [
    "# print number from 1 to 5  in the decrement order\n",
    "count = 5\n",
    "while count > 0:\n",
    "    print(count)\n",
    "    count -= 1"
   ]
  },
  {
   "cell_type": "markdown",
   "id": "c8b4426a-2ded-479f-808b-3b88e3cb0341",
   "metadata": {},
   "source": [
    "# loop"
   ]
  },
  {
   "cell_type": "code",
   "execution_count": 13,
   "id": "2b43e9e9-7b49-43bb-9f21-666b5dd39445",
   "metadata": {},
   "outputs": [
    {
     "name": "stdout",
     "output_type": "stream",
     "text": [
      "p\n",
      "y\n",
      "t\n",
      "h\n",
      "o\n",
      "n\n"
     ]
    }
   ],
   "source": [
    "# simple loop statement\n",
    "language = 'python'\n",
    "for x in language:\n",
    "    print(x)"
   ]
  },
  {
   "cell_type": "code",
   "execution_count": 14,
   "id": "8b6ca455-f8a9-4438-9f80-65f6dc77ad23",
   "metadata": {},
   "outputs": [],
   "source": [
    "# range(start,stop,step)"
   ]
  },
  {
   "cell_type": "code",
   "execution_count": 16,
   "id": "9a602e2b-9fcf-47b2-ba11-075a68911fca",
   "metadata": {},
   "outputs": [
    {
     "name": "stdout",
     "output_type": "stream",
     "text": [
      "5\n",
      "6\n",
      "7\n",
      "8\n",
      "9\n"
     ]
    }
   ],
   "source": [
    "for i in range(5,10):\n",
    "    print(i)"
   ]
  },
  {
   "cell_type": "code",
   "execution_count": 1,
   "id": "6c2cf838-d242-48df-b3b9-c1ecf80ec558",
   "metadata": {},
   "outputs": [
    {
     "name": "stdout",
     "output_type": "stream",
     "text": [
      "0\n",
      "1\n",
      "2\n",
      "3\n",
      "4\n",
      "For loop ended\n"
     ]
    }
   ],
   "source": [
    "for i in range(5):\n",
    "    print(i)\n",
    "else:\n",
    "    print(\"For loop ended\")"
   ]
  },
  {
   "cell_type": "markdown",
   "id": "ab0dcf49-c4e8-4b11-bad0-463639bc0ba4",
   "metadata": {},
   "source": [
    "# Loop control statement"
   ]
  },
  {
   "cell_type": "markdown",
   "id": "24d9eebe-c725-4c34-a085-6fa518e4e2e5",
   "metadata": {},
   "source": [
    "# 1.Pass statement"
   ]
  },
  {
   "cell_type": "code",
   "execution_count": 2,
   "id": "f7574bac-8528-4687-9cc2-47d508b96145",
   "metadata": {},
   "outputs": [],
   "source": [
    "for i in range(5):\n",
    "    pass"
   ]
  },
  {
   "cell_type": "code",
   "execution_count": 3,
   "id": "8561caf6-7ada-42d0-b64f-6672fb39a409",
   "metadata": {},
   "outputs": [
    {
     "name": "stdout",
     "output_type": "stream",
     "text": [
      "5\n",
      "4\n",
      "2\n",
      "1\n"
     ]
    }
   ],
   "source": [
    "count = 5\n",
    "while count>0:\n",
    "    if count == 3:\n",
    "        pass\n",
    "    else:\n",
    "        print(count)\n",
    "    count -= 1"
   ]
  },
  {
   "cell_type": "markdown",
   "id": "247ae507-9343-4d79-9045-eed94fec944f",
   "metadata": {},
   "source": [
    "# 2.break statement"
   ]
  },
  {
   "cell_type": "code",
   "execution_count": 4,
   "id": "ee823487-3e9b-4357-9593-9d7513aecf80",
   "metadata": {},
   "outputs": [
    {
     "name": "stdout",
     "output_type": "stream",
     "text": [
      "0\n",
      "1\n",
      "2\n"
     ]
    }
   ],
   "source": [
    "for i in range(5):\n",
    "    if i == 3:\n",
    "        break\n",
    "    print(i)"
   ]
  },
  {
   "cell_type": "markdown",
   "id": "b3e3d7d1-33f1-4870-88d8-f0975afa6717",
   "metadata": {},
   "source": [
    "# 3. continues statement"
   ]
  },
  {
   "cell_type": "code",
   "execution_count": 5,
   "id": "b65f0d2f-af3e-464f-8674-60dc154c8aaf",
   "metadata": {},
   "outputs": [
    {
     "name": "stdout",
     "output_type": "stream",
     "text": [
      "0\n",
      "1\n",
      "2\n",
      "4\n"
     ]
    }
   ],
   "source": [
    "for i in range(5):\n",
    "    if i == 3:\n",
    "        continue\n",
    "    print(i)"
   ]
  },
  {
   "cell_type": "code",
   "execution_count": null,
   "id": "287a4a17-980e-4de9-9c4a-7b7a4328875b",
   "metadata": {},
   "outputs": [],
   "source": []
  }
 ],
 "metadata": {
  "kernelspec": {
   "display_name": "Python 3 (ipykernel)",
   "language": "python",
   "name": "python3"
  },
  "language_info": {
   "codemirror_mode": {
    "name": "ipython",
    "version": 3
   },
   "file_extension": ".py",
   "mimetype": "text/x-python",
   "name": "python",
   "nbconvert_exporter": "python",
   "pygments_lexer": "ipython3",
   "version": "3.13.5"
  }
 },
 "nbformat": 4,
 "nbformat_minor": 5
}
