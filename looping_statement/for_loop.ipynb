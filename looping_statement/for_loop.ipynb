{
 "cells": [
  {
   "cell_type": "markdown",
   "id": "ac853dbd-e727-47c3-8d02-24a163efbfb4",
   "metadata": {},
   "source": [
    "# For loop"
   ]
  },
  {
   "cell_type": "markdown",
   "id": "d44dd924-68c1-4833-bb94-499a426a2e69",
   "metadata": {},
   "source": [
    "# ▶ Counting a positive number"
   ]
  },
  {
   "cell_type": "raw",
   "id": "f64dafc2-4d9a-405a-8e3b-cd3a968d4bd5",
   "metadata": {},
   "source": [
    "Problem:Given a list of numbers,count how many are positive\n",
    "numbesr = [1,-2,3,-4,5,6,-7,-8,9,10]"
   ]
  },
  {
   "cell_type": "code",
   "execution_count": 4,
   "id": "9a4c365e-7219-4fc0-b672-1f4de18cb37f",
   "metadata": {},
   "outputs": [
    {
     "name": "stdout",
     "output_type": "stream",
     "text": [
      "Final count of positive number is: 6\n"
     ]
    }
   ],
   "source": [
    "numbers = [1,-2,3,-4,5,6,-7,-8,9,10]\n",
    "positive_number_count = 0\n",
    "for num in numbers:\n",
    "    if num > 0:\n",
    "        positive_number_count += 1\n",
    "print(\"Final count of positive number is:\",positive_number_count)\n",
    "    "
   ]
  },
  {
   "cell_type": "markdown",
   "id": "698bb03c-f19a-405c-be51-faf769d6441c",
   "metadata": {},
   "source": [
    "# ▶ sum of even numbers"
   ]
  },
  {
   "cell_type": "code",
   "execution_count": null,
   "id": "14f6fb9a-543c-4fbe-bbad-7a61d7369eb7",
   "metadata": {},
   "outputs": [],
   "source": [
    "Problem:Calculate the sum of even numbers up to a given number n "
   ]
  },
  {
   "cell_type": "code",
   "execution_count": 6,
   "id": "0da1daf8-bf80-460b-adfe-f9c04cf206bf",
   "metadata": {},
   "outputs": [
    {
     "name": "stdout",
     "output_type": "stream",
     "text": [
      "sum of even number is: 5\n"
     ]
    }
   ],
   "source": [
    "n = 10\n",
    "sum_even = 0\n",
    "for i in range(1,n+1):\n",
    "    if i%2 == 0:\n",
    "        sum_even += 1\n",
    "\n",
    "print(\"sum of even number is:\",sum_even)\n",
    "        \n"
   ]
  },
  {
   "cell_type": "markdown",
   "id": "dc8600aa-ce42-4d26-9b10-52fe326124ba",
   "metadata": {},
   "source": [
    "# ▶ Multiplication Table Printer"
   ]
  },
  {
   "cell_type": "raw",
   "id": "64113bf3-cdf3-4d59-ae17-d5fa2e99e789",
   "metadata": {},
   "source": [
    "Problem:print the multiplication table for a given number upto 10,but skip the fifth iteration"
   ]
  },
  {
   "cell_type": "code",
   "execution_count": 10,
   "id": "3ac2edf1-60ba-487b-a10f-e90f8177f781",
   "metadata": {},
   "outputs": [
    {
     "name": "stdout",
     "output_type": "stream",
     "text": [
      "3 x 1 = 3\n",
      "3 x 2 = 6\n",
      "3 x 3 = 9\n",
      "3 x 4 = 12\n",
      "3 x 6 = 18\n",
      "3 x 7 = 21\n",
      "3 x 8 = 24\n",
      "3 x 9 = 27\n",
      "3 x 10 = 30\n"
     ]
    }
   ],
   "source": [
    "n = 3\n",
    "for i in range(1,11):\n",
    "    if i == 5:\n",
    "        continue\n",
    "    print(n,'x',i, '=',n*i)\n",
    "    "
   ]
  },
  {
   "cell_type": "markdown",
   "id": "54d8e412-e68a-4974-8c6a-28a588d56aca",
   "metadata": {},
   "source": [
    "# ▶ Reverse a string ussing loop"
   ]
  },
  {
   "cell_type": "raw",
   "id": "c104f488-ca1e-4f0e-917e-2b819ad4851e",
   "metadata": {},
   "source": [
    "problem:Reverse a string using a loop"
   ]
  },
  {
   "cell_type": "code",
   "execution_count": 14,
   "id": "7103855b-a191-4049-9a14-5ae9c8385a63",
   "metadata": {},
   "outputs": [
    {
     "name": "stdout",
     "output_type": "stream",
     "text": [
      "p\n",
      "yp\n",
      "typ\n",
      "htyp\n",
      "ohtyp\n",
      "nohtyp\n"
     ]
    }
   ],
   "source": [
    "input_str= 'python'\n",
    "reversed_str = ''\n",
    "\n",
    "for char in input_str: \n",
    "    reversed_str = char + reversed_str\n",
    "\n",
    "    print(reversed_str)"
   ]
  },
  {
   "cell_type": "markdown",
   "id": "497c50d0-e7a3-4596-80e0-76c15343954f",
   "metadata": {},
   "source": [
    "# ▶ Find the frist non-repeatable character"
   ]
  },
  {
   "cell_type": "raw",
   "id": "5e39c4ef-1b10-414b-bf63-36a0944600a5",
   "metadata": {},
   "source": [
    "Problem:Given a string,find the frist non-repeatable character"
   ]
  },
  {
   "cell_type": "code",
   "execution_count": 3,
   "id": "0f852190-5fe1-4650-ad46-6c2ecf43c6b3",
   "metadata": {},
   "outputs": [
    {
     "name": "stdout",
     "output_type": "stream",
     "text": [
      "t\n",
      "e\n",
      "e\n",
      "t\n",
      "e\n",
      "a\n",
      "c\n",
      "d\n",
      "a\n",
      "c\n",
      "d\n",
      "r\n",
      "Char is: r\n"
     ]
    }
   ],
   "source": [
    "input_str = \"teeteacdacdr\"\n",
    "for char in input_str:\n",
    "    print(char)\n",
    "    if input_str.count(char) == 1:\n",
    "        print(\"Char is:\",char)\n",
    "        break"
   ]
  },
  {
   "cell_type": "markdown",
   "id": "28420782-bb32-49fe-85ef-29266640deaf",
   "metadata": {},
   "source": [
    "# ▶ Factorial Calculator"
   ]
  },
  {
   "cell_type": "raw",
   "id": "a4b9ec91-a8cf-44b4-82ac-66cf188db029",
   "metadata": {},
   "source": [
    "Problem:Compute the factorial of a number using a while loop"
   ]
  },
  {
   "cell_type": "code",
   "execution_count": 5,
   "id": "85c595ca-f194-4fef-9faa-f7ed1dda3710",
   "metadata": {},
   "outputs": [
    {
     "name": "stdout",
     "output_type": "stream",
     "text": [
      "factorial: 120\n"
     ]
    }
   ],
   "source": [
    "number = 5\n",
    "factorial = 1\n",
    "\n",
    "while number>0:\n",
    "    factorial*= number\n",
    "    number = number -1\n",
    "print(\"factorial:\",factorial)"
   ]
  },
  {
   "cell_type": "code",
   "execution_count": null,
   "id": "e8f74516-ec25-40bf-9094-10d0810acc46",
   "metadata": {},
   "outputs": [],
   "source": []
  }
 ],
 "metadata": {
  "kernelspec": {
   "display_name": "Python 3 (ipykernel)",
   "language": "python",
   "name": "python3"
  },
  "language_info": {
   "codemirror_mode": {
    "name": "ipython",
    "version": 3
   },
   "file_extension": ".py",
   "mimetype": "text/x-python",
   "name": "python",
   "nbconvert_exporter": "python",
   "pygments_lexer": "ipython3",
   "version": "3.13.5"
  }
 },
 "nbformat": 4,
 "nbformat_minor": 5
}
