Basic python program - Hello World
print("Hello World")
