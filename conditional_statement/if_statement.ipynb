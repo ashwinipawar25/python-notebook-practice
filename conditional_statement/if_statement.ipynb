This folder contains code examples and logic related to conditional statements (if, elif, and else statements)
